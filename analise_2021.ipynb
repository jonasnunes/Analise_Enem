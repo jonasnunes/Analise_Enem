{
  "cells": [
    {
      "cell_type": "markdown",
      "id": "093cefbe",
      "metadata": {
        "id": "093cefbe"
      },
      "source": [
        "# Análise dos dados do Enem no ano de 2021"
      ]
    },
    {
      "cell_type": "code",
      "execution_count": 2,
      "id": "4c981a63",
      "metadata": {
        "colab": {
          "base_uri": "https://localhost:8080/",
          "height": 318
        },
        "id": "4c981a63",
        "outputId": "1c57e62a-31fb-4928-e301-7b3cac8a0ef4"
      },
      "outputs": [
        {
          "output_type": "stream",
          "name": "stdout",
          "text": [
            "Mounted at /content/drive\n"
          ]
        },
        {
          "output_type": "execute_result",
          "data": {
            "text/plain": [
              "   NU_INSCRICAO  NU_ANO  TP_FAIXA_ETARIA TP_SEXO  TP_ESTADO_CIVIL  \\\n",
              "0  210053865474    2021                5       F                1   \n",
              "1  210052384164    2021               12       M                1   \n",
              "2  210052589243    2021               13       F                3   \n",
              "3  210052128335    2021                3       M                1   \n",
              "4  210051353021    2021                2       F                1   \n",
              "\n",
              "   TP_COR_RACA  TP_NACIONALIDADE  TP_ST_CONCLUSAO  TP_ANO_CONCLUIU  TP_ESCOLA  \\\n",
              "0            1                 1                1                3          1   \n",
              "1            1                 1                1               11          1   \n",
              "2            1                 1                1               15          1   \n",
              "3            3                 1                2                0          2   \n",
              "4            3                 1                2                0          2   \n",
              "\n",
              "   ...  Q016  Q017  Q018 Q019  Q020 Q021  Q022  Q023  Q024  Q025  \n",
              "0  ...     A     A     A    B     A    A     B     A     B     B  \n",
              "1  ...     A     A     A    B     A    A     C     A     A     A  \n",
              "2  ...     B     A     A    B     A    A     C     B     B     B  \n",
              "3  ...     A     A     A    B     A    A     B     A     B     B  \n",
              "4  ...     B     A     A    B     A    B     E     A     B     B  \n",
              "\n",
              "[5 rows x 76 columns]"
            ],
            "text/html": [
              "\n",
              "  <div id=\"df-b2637032-426d-4987-84d7-f8b243475848\">\n",
              "    <div class=\"colab-df-container\">\n",
              "      <div>\n",
              "<style scoped>\n",
              "    .dataframe tbody tr th:only-of-type {\n",
              "        vertical-align: middle;\n",
              "    }\n",
              "\n",
              "    .dataframe tbody tr th {\n",
              "        vertical-align: top;\n",
              "    }\n",
              "\n",
              "    .dataframe thead th {\n",
              "        text-align: right;\n",
              "    }\n",
              "</style>\n",
              "<table border=\"1\" class=\"dataframe\">\n",
              "  <thead>\n",
              "    <tr style=\"text-align: right;\">\n",
              "      <th></th>\n",
              "      <th>NU_INSCRICAO</th>\n",
              "      <th>NU_ANO</th>\n",
              "      <th>TP_FAIXA_ETARIA</th>\n",
              "      <th>TP_SEXO</th>\n",
              "      <th>TP_ESTADO_CIVIL</th>\n",
              "      <th>TP_COR_RACA</th>\n",
              "      <th>TP_NACIONALIDADE</th>\n",
              "      <th>TP_ST_CONCLUSAO</th>\n",
              "      <th>TP_ANO_CONCLUIU</th>\n",
              "      <th>TP_ESCOLA</th>\n",
              "      <th>...</th>\n",
              "      <th>Q016</th>\n",
              "      <th>Q017</th>\n",
              "      <th>Q018</th>\n",
              "      <th>Q019</th>\n",
              "      <th>Q020</th>\n",
              "      <th>Q021</th>\n",
              "      <th>Q022</th>\n",
              "      <th>Q023</th>\n",
              "      <th>Q024</th>\n",
              "      <th>Q025</th>\n",
              "    </tr>\n",
              "  </thead>\n",
              "  <tbody>\n",
              "    <tr>\n",
              "      <th>0</th>\n",
              "      <td>210053865474</td>\n",
              "      <td>2021</td>\n",
              "      <td>5</td>\n",
              "      <td>F</td>\n",
              "      <td>1</td>\n",
              "      <td>1</td>\n",
              "      <td>1</td>\n",
              "      <td>1</td>\n",
              "      <td>3</td>\n",
              "      <td>1</td>\n",
              "      <td>...</td>\n",
              "      <td>A</td>\n",
              "      <td>A</td>\n",
              "      <td>A</td>\n",
              "      <td>B</td>\n",
              "      <td>A</td>\n",
              "      <td>A</td>\n",
              "      <td>B</td>\n",
              "      <td>A</td>\n",
              "      <td>B</td>\n",
              "      <td>B</td>\n",
              "    </tr>\n",
              "    <tr>\n",
              "      <th>1</th>\n",
              "      <td>210052384164</td>\n",
              "      <td>2021</td>\n",
              "      <td>12</td>\n",
              "      <td>M</td>\n",
              "      <td>1</td>\n",
              "      <td>1</td>\n",
              "      <td>1</td>\n",
              "      <td>1</td>\n",
              "      <td>11</td>\n",
              "      <td>1</td>\n",
              "      <td>...</td>\n",
              "      <td>A</td>\n",
              "      <td>A</td>\n",
              "      <td>A</td>\n",
              "      <td>B</td>\n",
              "      <td>A</td>\n",
              "      <td>A</td>\n",
              "      <td>C</td>\n",
              "      <td>A</td>\n",
              "      <td>A</td>\n",
              "      <td>A</td>\n",
              "    </tr>\n",
              "    <tr>\n",
              "      <th>2</th>\n",
              "      <td>210052589243</td>\n",
              "      <td>2021</td>\n",
              "      <td>13</td>\n",
              "      <td>F</td>\n",
              "      <td>3</td>\n",
              "      <td>1</td>\n",
              "      <td>1</td>\n",
              "      <td>1</td>\n",
              "      <td>15</td>\n",
              "      <td>1</td>\n",
              "      <td>...</td>\n",
              "      <td>B</td>\n",
              "      <td>A</td>\n",
              "      <td>A</td>\n",
              "      <td>B</td>\n",
              "      <td>A</td>\n",
              "      <td>A</td>\n",
              "      <td>C</td>\n",
              "      <td>B</td>\n",
              "      <td>B</td>\n",
              "      <td>B</td>\n",
              "    </tr>\n",
              "    <tr>\n",
              "      <th>3</th>\n",
              "      <td>210052128335</td>\n",
              "      <td>2021</td>\n",
              "      <td>3</td>\n",
              "      <td>M</td>\n",
              "      <td>1</td>\n",
              "      <td>3</td>\n",
              "      <td>1</td>\n",
              "      <td>2</td>\n",
              "      <td>0</td>\n",
              "      <td>2</td>\n",
              "      <td>...</td>\n",
              "      <td>A</td>\n",
              "      <td>A</td>\n",
              "      <td>A</td>\n",
              "      <td>B</td>\n",
              "      <td>A</td>\n",
              "      <td>A</td>\n",
              "      <td>B</td>\n",
              "      <td>A</td>\n",
              "      <td>B</td>\n",
              "      <td>B</td>\n",
              "    </tr>\n",
              "    <tr>\n",
              "      <th>4</th>\n",
              "      <td>210051353021</td>\n",
              "      <td>2021</td>\n",
              "      <td>2</td>\n",
              "      <td>F</td>\n",
              "      <td>1</td>\n",
              "      <td>3</td>\n",
              "      <td>1</td>\n",
              "      <td>2</td>\n",
              "      <td>0</td>\n",
              "      <td>2</td>\n",
              "      <td>...</td>\n",
              "      <td>B</td>\n",
              "      <td>A</td>\n",
              "      <td>A</td>\n",
              "      <td>B</td>\n",
              "      <td>A</td>\n",
              "      <td>B</td>\n",
              "      <td>E</td>\n",
              "      <td>A</td>\n",
              "      <td>B</td>\n",
              "      <td>B</td>\n",
              "    </tr>\n",
              "  </tbody>\n",
              "</table>\n",
              "<p>5 rows × 76 columns</p>\n",
              "</div>\n",
              "      <button class=\"colab-df-convert\" onclick=\"convertToInteractive('df-b2637032-426d-4987-84d7-f8b243475848')\"\n",
              "              title=\"Convert this dataframe to an interactive table.\"\n",
              "              style=\"display:none;\">\n",
              "        \n",
              "  <svg xmlns=\"http://www.w3.org/2000/svg\" height=\"24px\"viewBox=\"0 0 24 24\"\n",
              "       width=\"24px\">\n",
              "    <path d=\"M0 0h24v24H0V0z\" fill=\"none\"/>\n",
              "    <path d=\"M18.56 5.44l.94 2.06.94-2.06 2.06-.94-2.06-.94-.94-2.06-.94 2.06-2.06.94zm-11 1L8.5 8.5l.94-2.06 2.06-.94-2.06-.94L8.5 2.5l-.94 2.06-2.06.94zm10 10l.94 2.06.94-2.06 2.06-.94-2.06-.94-.94-2.06-.94 2.06-2.06.94z\"/><path d=\"M17.41 7.96l-1.37-1.37c-.4-.4-.92-.59-1.43-.59-.52 0-1.04.2-1.43.59L10.3 9.45l-7.72 7.72c-.78.78-.78 2.05 0 2.83L4 21.41c.39.39.9.59 1.41.59.51 0 1.02-.2 1.41-.59l7.78-7.78 2.81-2.81c.8-.78.8-2.07 0-2.86zM5.41 20L4 18.59l7.72-7.72 1.47 1.35L5.41 20z\"/>\n",
              "  </svg>\n",
              "      </button>\n",
              "      \n",
              "  <style>\n",
              "    .colab-df-container {\n",
              "      display:flex;\n",
              "      flex-wrap:wrap;\n",
              "      gap: 12px;\n",
              "    }\n",
              "\n",
              "    .colab-df-convert {\n",
              "      background-color: #E8F0FE;\n",
              "      border: none;\n",
              "      border-radius: 50%;\n",
              "      cursor: pointer;\n",
              "      display: none;\n",
              "      fill: #1967D2;\n",
              "      height: 32px;\n",
              "      padding: 0 0 0 0;\n",
              "      width: 32px;\n",
              "    }\n",
              "\n",
              "    .colab-df-convert:hover {\n",
              "      background-color: #E2EBFA;\n",
              "      box-shadow: 0px 1px 2px rgba(60, 64, 67, 0.3), 0px 1px 3px 1px rgba(60, 64, 67, 0.15);\n",
              "      fill: #174EA6;\n",
              "    }\n",
              "\n",
              "    [theme=dark] .colab-df-convert {\n",
              "      background-color: #3B4455;\n",
              "      fill: #D2E3FC;\n",
              "    }\n",
              "\n",
              "    [theme=dark] .colab-df-convert:hover {\n",
              "      background-color: #434B5C;\n",
              "      box-shadow: 0px 1px 3px 1px rgba(0, 0, 0, 0.15);\n",
              "      filter: drop-shadow(0px 1px 2px rgba(0, 0, 0, 0.3));\n",
              "      fill: #FFFFFF;\n",
              "    }\n",
              "  </style>\n",
              "\n",
              "      <script>\n",
              "        const buttonEl =\n",
              "          document.querySelector('#df-b2637032-426d-4987-84d7-f8b243475848 button.colab-df-convert');\n",
              "        buttonEl.style.display =\n",
              "          google.colab.kernel.accessAllowed ? 'block' : 'none';\n",
              "\n",
              "        async function convertToInteractive(key) {\n",
              "          const element = document.querySelector('#df-b2637032-426d-4987-84d7-f8b243475848');\n",
              "          const dataTable =\n",
              "            await google.colab.kernel.invokeFunction('convertToInteractive',\n",
              "                                                     [key], {});\n",
              "          if (!dataTable) return;\n",
              "\n",
              "          const docLinkHtml = 'Like what you see? Visit the ' +\n",
              "            '<a target=\"_blank\" href=https://colab.research.google.com/notebooks/data_table.ipynb>data table notebook</a>'\n",
              "            + ' to learn more about interactive tables.';\n",
              "          element.innerHTML = '';\n",
              "          dataTable['output_type'] = 'display_data';\n",
              "          await google.colab.output.renderOutput(dataTable, element);\n",
              "          const docLink = document.createElement('div');\n",
              "          docLink.innerHTML = docLinkHtml;\n",
              "          element.appendChild(docLink);\n",
              "        }\n",
              "      </script>\n",
              "    </div>\n",
              "  </div>\n",
              "  "
            ]
          },
          "metadata": {},
          "execution_count": 2
        }
      ],
      "source": [
        "import pandas as pd\n",
        "from google.colab import drive\n",
        "drive.mount('/content/drive')\n",
        "\n",
        "dados = pd.read_csv('/content/drive/MyDrive/dados_Enem/microdados_enem_2021/DADOS/MICRODADOS_ENEM_2021.csv', encoding='latin1', sep=';')\n",
        "\n",
        "dados.head()"
      ]
    },
    {
      "cell_type": "code",
      "execution_count": 27,
      "id": "3a306e99",
      "metadata": {
        "colab": {
          "base_uri": "https://localhost:8080/"
        },
        "id": "3a306e99",
        "outputId": "c5cbfb79-41c0-48ae-a4f5-9c194f53c5a1"
      },
      "outputs": [
        {
          "output_type": "stream",
          "name": "stdout",
          "text": [
            "A base de dados possui 3389832 linhas e 76 colunas\n"
          ]
        }
      ],
      "source": [
        "linhas_colunas = list(dados.shape)\n",
        "qtde_linhas = linhas_colunas[0]\n",
        "qtde_colunas = linhas_colunas[1]\n",
        "\n",
        "print(f'A base de dados possui {qtde_linhas} linhas e {qtde_colunas} colunas')"
      ]
    },
    {
      "cell_type": "code",
      "source": [
        "total_de_candidatos = len(dados['NU_INSCRICAO'])\n",
        "print(f'Total de candidatos: {total_de_candidatos}')"
      ],
      "metadata": {
        "colab": {
          "base_uri": "https://localhost:8080/"
        },
        "id": "e2HEvtyPWKGy",
        "outputId": "27d84867-5e0f-4400-aa64-afdf81bf4c32"
      },
      "id": "e2HEvtyPWKGy",
      "execution_count": 5,
      "outputs": [
        {
          "output_type": "stream",
          "name": "stdout",
          "text": [
            "Total de candidatos: 3389832\n"
          ]
        }
      ]
    },
    {
      "cell_type": "code",
      "source": [
        "# sabendo o nome das colunas\n",
        "dados.columns.values"
      ],
      "metadata": {
        "colab": {
          "base_uri": "https://localhost:8080/"
        },
        "id": "UMbGseXzXL3Q",
        "outputId": "139eddab-54e9-4677-c924-133227856450"
      },
      "id": "UMbGseXzXL3Q",
      "execution_count": 30,
      "outputs": [
        {
          "output_type": "execute_result",
          "data": {
            "text/plain": [
              "array(['NU_INSCRICAO', 'NU_ANO', 'TP_FAIXA_ETARIA', 'TP_SEXO',\n",
              "       'TP_ESTADO_CIVIL', 'TP_COR_RACA', 'TP_NACIONALIDADE',\n",
              "       'TP_ST_CONCLUSAO', 'TP_ANO_CONCLUIU', 'TP_ESCOLA', 'TP_ENSINO',\n",
              "       'IN_TREINEIRO', 'CO_MUNICIPIO_ESC', 'NO_MUNICIPIO_ESC',\n",
              "       'CO_UF_ESC', 'SG_UF_ESC', 'TP_DEPENDENCIA_ADM_ESC',\n",
              "       'TP_LOCALIZACAO_ESC', 'TP_SIT_FUNC_ESC', 'CO_MUNICIPIO_PROVA',\n",
              "       'NO_MUNICIPIO_PROVA', 'CO_UF_PROVA', 'SG_UF_PROVA',\n",
              "       'TP_PRESENCA_CN', 'TP_PRESENCA_CH', 'TP_PRESENCA_LC',\n",
              "       'TP_PRESENCA_MT', 'CO_PROVA_CN', 'CO_PROVA_CH', 'CO_PROVA_LC',\n",
              "       'CO_PROVA_MT', 'NU_NOTA_CN', 'NU_NOTA_CH', 'NU_NOTA_LC',\n",
              "       'NU_NOTA_MT', 'TX_RESPOSTAS_CN', 'TX_RESPOSTAS_CH',\n",
              "       'TX_RESPOSTAS_LC', 'TX_RESPOSTAS_MT', 'TP_LINGUA',\n",
              "       'TX_GABARITO_CN', 'TX_GABARITO_CH', 'TX_GABARITO_LC',\n",
              "       'TX_GABARITO_MT', 'TP_STATUS_REDACAO', 'NU_NOTA_COMP1',\n",
              "       'NU_NOTA_COMP2', 'NU_NOTA_COMP3', 'NU_NOTA_COMP4', 'NU_NOTA_COMP5',\n",
              "       'NU_NOTA_REDACAO', 'Q001', 'Q002', 'Q003', 'Q004', 'Q005', 'Q006',\n",
              "       'Q007', 'Q008', 'Q009', 'Q010', 'Q011', 'Q012', 'Q013', 'Q014',\n",
              "       'Q015', 'Q016', 'Q017', 'Q018', 'Q019', 'Q020', 'Q021', 'Q022',\n",
              "       'Q023', 'Q024', 'Q025'], dtype=object)"
            ]
          },
          "metadata": {},
          "execution_count": 30
        }
      ]
    },
    {
      "cell_type": "code",
      "source": [
        "# estados distintos\n",
        "dados['SG_UF_PROVA'].unique()"
      ],
      "metadata": {
        "colab": {
          "base_uri": "https://localhost:8080/"
        },
        "id": "F6Qm07XoXwYK",
        "outputId": "6513bf3f-a663-4d30-81bf-851be80c2014"
      },
      "id": "F6Qm07XoXwYK",
      "execution_count": 31,
      "outputs": [
        {
          "output_type": "execute_result",
          "data": {
            "text/plain": [
              "array(['MG', 'AL', 'SP', 'CE', 'RS', 'BA', 'GO', 'RN', 'PA', 'RJ', 'MT',\n",
              "       'PE', 'MA', 'RO', 'SE', 'PR', 'PB', 'PI', 'ES', 'DF', 'TO', 'AM',\n",
              "       'SC', 'AP', 'MS', 'RR', 'AC'], dtype=object)"
            ]
          },
          "metadata": {},
          "execution_count": 31
        }
      ]
    },
    {
      "cell_type": "code",
      "source": [
        "# quantidade de estados\n",
        "len(dados['SG_UF_PROVA'].unique())"
      ],
      "metadata": {
        "colab": {
          "base_uri": "https://localhost:8080/"
        },
        "id": "Z4QQpwcZX38L",
        "outputId": "6176f8e9-f718-40b0-af76-000af6db632c"
      },
      "id": "Z4QQpwcZX38L",
      "execution_count": 32,
      "outputs": [
        {
          "output_type": "execute_result",
          "data": {
            "text/plain": [
              "27"
            ]
          },
          "metadata": {},
          "execution_count": 32
        }
      ]
    },
    {
      "cell_type": "code",
      "source": [
        "# quantidade de candidatos por idade\n",
        "candidato_menor_17_anos = len(dados.query('TP_FAIXA_ETARIA == 1'))\n",
        "candidato_17_anos = len(dados.query('TP_FAIXA_ETARIA == 2'))\n",
        "candidato_18_anos = len(dados.query('TP_FAIXA_ETARIA == 3'))\n",
        "candidato_19_anos = len(dados.query('TP_FAIXA_ETARIA == 4'))\n",
        "candidato_20_anos = len(dados.query('TP_FAIXA_ETARIA == 5'))\n",
        "candidato_21_anos = len(dados.query('TP_FAIXA_ETARIA == 6'))\n",
        "candidato_22_anos = len(dados.query('TP_FAIXA_ETARIA == 7'))\n",
        "candidato_23_anos = len(dados.query('TP_FAIXA_ETARIA == 8'))\n",
        "candidato_24_anos = len(dados.query('TP_FAIXA_ETARIA == 9'))\n",
        "candidato_25_anos = len(dados.query('TP_FAIXA_ETARIA == 10'))\n",
        "candidato_26_30_anos = len(dados.query('TP_FAIXA_ETARIA == 11'))\n",
        "candidato_31_35_anos = len(dados.query('TP_FAIXA_ETARIA == 12'))\n",
        "candidato_36_40_anos = len(dados.query('TP_FAIXA_ETARIA == 13'))\n",
        "candidato_41_45_anos = len(dados.query('TP_FAIXA_ETARIA == 14'))\n",
        "candidato_46_50_anos = len(dados.query('TP_FAIXA_ETARIA == 15'))\n",
        "candidato_51_55_anos = len(dados.query('TP_FAIXA_ETARIA == 16'))\n",
        "candidato_56_60_anos = len(dados.query('TP_FAIXA_ETARIA == 17'))\n",
        "candidato_61_65_anos = len(dados.query('TP_FAIXA_ETARIA == 18'))\n",
        "candidato_66_70_anos = len(dados.query('TP_FAIXA_ETARIA == 19'))\n",
        "candidato_maior_70_anos = len(dados.query('TP_FAIXA_ETARIA == 20'))\n",
        "\n",
        "print(f'''\n",
        "{candidato_menor_17_anos} candidatos menores de 17 anos\n",
        "{candidato_17_anos} candidatos com 17 anos\n",
        "{candidato_18_anos} candidatos com 18 anos\n",
        "{candidato_19_anos} candidatos com 19 anos\n",
        "{candidato_20_anos} candidatos com 20 anos\n",
        "{candidato_21_anos} candidatos com 21 anos\n",
        "{candidato_22_anos} candidatos com 22 anos\n",
        "{candidato_23_anos} candidatos com 23 anos\n",
        "{candidato_24_anos} candidatos com 24 anos\n",
        "{candidato_25_anos} candidatos com 25 anos\n",
        "{candidato_26_30_anos} candidatos entre 26 e 30 anos\n",
        "{candidato_31_35_anos} candidatos entre 31 e 35 anos\n",
        "{candidato_36_40_anos} candidatos entre 36 e 40 anos\n",
        "{candidato_41_45_anos} candidatos entre 41 e 45 anos\n",
        "{candidato_46_50_anos} candidatos entre 46 e 50 anos\n",
        "{candidato_51_55_anos} candidatos entre 51 e 55 anos\n",
        "{candidato_56_60_anos} candidatos entre 56 e 60 anos\n",
        "{candidato_61_65_anos} candidatos entre 61 e 65 anos\n",
        "{candidato_66_70_anos} candidatos entre 66 e 70 anos\n",
        "{candidato_maior_70_anos} candidatos acima de 70 anos\n",
        "''')\n",
        "\n",
        "# representatividade\n",
        "rep_candidato_menor_17_anos = candidato_menor_17_anos / total_de_candidatos * 100\n",
        "rep_candidato_17_anos = candidato_17_anos / total_de_candidatos * 100\n",
        "rep_candidato_18_anos = candidato_18_anos / total_de_candidatos * 100\n",
        "rep_candidato_19_anos = candidato_19_anos / total_de_candidatos * 100\n",
        "rep_candidato_20_anos = candidato_20_anos / total_de_candidatos * 100\n",
        "rep_candidato_21_anos = candidato_21_anos / total_de_candidatos * 100\n",
        "rep_candidato_22_anos = candidato_22_anos / total_de_candidatos * 100\n",
        "rep_candidato_23_anos = candidato_23_anos / total_de_candidatos * 100\n",
        "rep_candidato_24_anos = candidato_24_anos / total_de_candidatos * 100\n",
        "rep_candidato_25_anos = candidato_25_anos / total_de_candidatos * 100\n",
        "rep_candidato_26_30_anos = candidato_26_30_anos / total_de_candidatos * 100\n",
        "rep_candidato_31_35_anos = candidato_31_35_anos / total_de_candidatos * 100\n",
        "rep_candidato_36_40_anos = candidato_36_40_anos / total_de_candidatos * 100\n",
        "rep_candidato_41_45_anos = candidato_41_45_anos / total_de_candidatos * 100\n",
        "rep_candidato_46_50_anos = candidato_46_50_anos / total_de_candidatos * 100\n",
        "rep_candidato_51_55_anos = candidato_51_55_anos / total_de_candidatos * 100\n",
        "rep_candidato_56_60_anos = candidato_56_60_anos / total_de_candidatos * 100\n",
        "rep_candidato_61_65_anos = candidato_61_65_anos / total_de_candidatos * 100\n",
        "rep_candidato_66_70_anos = candidato_66_70_anos / total_de_candidatos * 100\n",
        "rep_candidato_maior_70_anos = candidato_maior_70_anos / total_de_candidatos * 100\n",
        "\n",
        "print(f'''\n",
        "{rep_candidato_menor_17_anos:.2f}% dos candidatos são menores de 17 anos\n",
        "{rep_candidato_17_anos:.2f}% dos candidatos tem 17 anos\n",
        "{rep_candidato_18_anos:.2f}% dos candidatos tem 18 anos\n",
        "{rep_candidato_19_anos:.2f}% dos candidatos tem 19 anos\n",
        "{rep_candidato_20_anos:.2f}% dos candidatos tem 20 anos\n",
        "{rep_candidato_21_anos:.2f}% dos candidatos tem 21 anos\n",
        "{rep_candidato_22_anos:.2f}% dos candidatos tem 22 anos\n",
        "{rep_candidato_23_anos:.2f}% dos candidatos tem 23 anos\n",
        "{rep_candidato_24_anos:.2f}% dos candidatos tem 24 anos\n",
        "{rep_candidato_25_anos:.2f}% dos candidatos tem 25 anos\n",
        "{rep_candidato_26_30_anos:.2f}% dos candidatos tem entre 26 e 30 anos\n",
        "{rep_candidato_31_35_anos:.2f}% dos candidatos tem entre 31 e 35 anos\n",
        "{rep_candidato_36_40_anos:.2f}% dos candidatos tem entre 36 e 40 anos\n",
        "{rep_candidato_41_45_anos:.2f}% dos candidatos tem entre 41 e 45 anos\n",
        "{rep_candidato_46_50_anos:.2f}% dos candidatos tem entre 46 e 50 anos\n",
        "{rep_candidato_51_55_anos:.2f}% dos candidatos tem entre 51 e 55 anos\n",
        "{rep_candidato_56_60_anos:.2f}% dos candidatos tem entre 56 e 60 anos\n",
        "{rep_candidato_61_65_anos:.2f}% dos candidatos tem entre 61 e 65 anos\n",
        "{rep_candidato_66_70_anos:.2f}% dos candidatos tem entre 66 e 70 anos\n",
        "{rep_candidato_maior_70_anos:.2f}% dos candidatos estão acima de 70 anos\n",
        "''')"
      ],
      "metadata": {
        "colab": {
          "base_uri": "https://localhost:8080/"
        },
        "id": "Z58Hbc-NYNFc",
        "outputId": "48f58e56-b06a-4758-e7b3-2af2326c63e6"
      },
      "id": "Z58Hbc-NYNFc",
      "execution_count": 46,
      "outputs": [
        {
          "output_type": "stream",
          "name": "stdout",
          "text": [
            "\n",
            "274318 candidatos menores de 17 anos\n",
            "620784 candidatos com 17 anos\n",
            "699365 candidatos com 18 anos\n",
            "394689 candidatos com 19 anos\n",
            "250690 candidatos com 20 anos\n",
            "177086 candidatos com 21 anos\n",
            "132052 candidatos com 22 anos\n",
            "100580 candidatos com 23 anos\n",
            "85742 candidatos com 24 anos\n",
            "71199 candidatos com 25 anos\n",
            "227574 candidatos entre 26 e 30 anos\n",
            "130746 candidatos entre 31 e 35 anos\n",
            "93073 candidatos entre 36 e 40 anos\n",
            "58754 candidatos entre 41 e 45 anos\n",
            "35808 candidatos entre 46 e 50 anos\n",
            "20564 candidatos entre 51 e 55 anos\n",
            "10804 candidatos entre 56 e 60 anos\n",
            "4102 candidatos entre 61 e 65 anos\n",
            "1342 candidatos entre 66 e 70 anos\n",
            "560 candidatos acima de 70 anos\n",
            "\n",
            "\n",
            "8.09% dos candidatos são menores de 17 anos\n",
            "18.31% dos candidatos tem 17 anos\n",
            "20.63% dos candidatos tem 18 anos\n",
            "11.64% dos candidatos tem 19 anos\n",
            "7.40% dos candidatos tem 20 anos\n",
            "5.22% dos candidatos tem 21 anos\n",
            "3.90% dos candidatos tem 22 anos\n",
            "2.97% dos candidatos tem 23 anos\n",
            "2.53% dos candidatos tem 24 anos\n",
            "2.10% dos candidatos tem 25 anos\n",
            "6.71% dos candidatos tem entre 26 e 30 anos\n",
            "3.86% dos candidatos tem entre 31 e 35 anos\n",
            "2.75% dos candidatos tem entre 36 e 40 anos\n",
            "1.73% dos candidatos tem entre 41 e 45 anos\n",
            "1.06% dos candidatos tem entre 46 e 50 anos\n",
            "0.61% dos candidatos tem entre 51 e 55 anos\n",
            "0.32% dos candidatos tem entre 56 e 60 anos\n",
            "0.12% dos candidatos tem entre 61 e 65 anos\n",
            "0.04% dos candidatos tem entre 66 e 70 anos\n",
            "0.02% dos candidatos estão acima de 70 anos\n",
            "\n"
          ]
        }
      ]
    },
    {
      "cell_type": "code",
      "source": [
        "# quantidade de candidatos por sexo\n",
        "candidato_masculino = len(dados.query(\"TP_SEXO == 'M'\"))\n",
        "candidato_feminino = len(dados.query(\"TP_SEXO == 'F'\"))\n",
        "\n",
        "print(f'''\n",
        "{candidato_masculino} candidatos são do sexo masculino\n",
        "{candidato_feminino} candidatos são do sexo feminino\n",
        "''')\n",
        "\n",
        "# representatividade\n",
        "rep_candidato_masculino = candidato_masculino / total_de_candidatos * 100\n",
        "rep_candidato_feminino = candidato_feminino / total_de_candidatos * 100\n",
        "\n",
        "print(f'''\n",
        "{rep_candidato_masculino:.2f}% dos candidatos são do sexo masculino\n",
        "{rep_candidato_feminino:.2f}% dos candidatos são do sexo feminino\n",
        "''')"
      ],
      "metadata": {
        "colab": {
          "base_uri": "https://localhost:8080/"
        },
        "id": "DxTU6TEhbeRx",
        "outputId": "74e10dcb-0237-41c6-da2e-64b42f0f525b"
      },
      "id": "DxTU6TEhbeRx",
      "execution_count": 49,
      "outputs": [
        {
          "output_type": "stream",
          "name": "stdout",
          "text": [
            "\n",
            "1299306 candidatos são do sexo masculino\n",
            "2090526 candidatos são do sexo feminino\n",
            "\n",
            "\n",
            "38.33% dos candidatos são do sexo masculino\n",
            "61.67% dos candidatos são do sexo feminino\n",
            "\n"
          ]
        }
      ]
    },
    {
      "cell_type": "code",
      "source": [
        "# quantidade de candidatos por raça\n",
        "candidato_branco = len(dados.query('TP_COR_RACA == 1'))\n",
        "candidato_negro = len(dados.query('TP_COR_RACA == 2'))\n",
        "candidato_pardo = len(dados.query('TP_COR_RACA == 3'))\n",
        "candidato_amarelo = len(dados.query('TP_COR_RACA == 4'))\n",
        "candidato_indigena = len(dados.query('TP_COR_RACA == 5'))\n",
        "\n",
        "print(f'''\n",
        "{candidato_branco} candidatos brancos\n",
        "{candidato_negro} candidatos negros\n",
        "{candidato_pardo} candidatos pardos\n",
        "{candidato_amarelo} candidatos amarelos\n",
        "{candidato_indigena} candidatos indígenas\n",
        "''')\n",
        "\n",
        "# representatividade\n",
        "rep_candidato_branco = candidato_branco / total_de_candidatos * 100\n",
        "rep_candidato_negro = candidato_negro / total_de_candidatos * 100\n",
        "rep_candidato_pardo = candidato_pardo / total_de_candidatos * 100\n",
        "rep_candidato_amarelo = candidato_amarelo / total_de_candidatos * 100\n",
        "rep_candidato_indigena = candidato_indigena / total_de_candidatos * 100\n",
        "\n",
        "print(f'''\n",
        "{rep_candidato_branco:.2f}% dos candidatos são brancos\n",
        "{rep_candidato_negro:.2f}% dos candidatos são negros\n",
        "{rep_candidato_pardo:.2f}% dos candidatos são pardos\n",
        "{rep_candidato_amarelo:.2f}% dos candidatos são amarelos\n",
        "{rep_candidato_indigena:.2f}% dos candidatos são indígenas\n",
        "''')"
      ],
      "metadata": {
        "colab": {
          "base_uri": "https://localhost:8080/"
        },
        "id": "A1pKCXJfdpgu",
        "outputId": "edb49cfa-d733-42cc-e6e8-418b72984e34"
      },
      "id": "A1pKCXJfdpgu",
      "execution_count": 45,
      "outputs": [
        {
          "output_type": "stream",
          "name": "stdout",
          "text": [
            "\n",
            "1362256 candidatos brancos\n",
            "411302 candidatos negros\n",
            "1457454 candidatos pardos\n",
            "68491 candidatos amarelos\n",
            "19175 candidatos indígenas\n",
            "\n",
            "\n",
            "40.19% dos candidatos são brancos\n",
            "12.13% dos candidatos são negros\n",
            "42.99% dos candidatos são pardos\n",
            "2.02% dos candidatos são amarelos\n",
            "0.57% dos candidatos são indígenas\n",
            "\n"
          ]
        }
      ]
    },
    {
      "cell_type": "code",
      "source": [
        "# quantidade de candidatos por nacionalidade\n",
        "brasileiro = len(dados.query('TP_NACIONALIDADE == 1'))\n",
        "brasileiro_naturalizado = len(dados.query('TP_NACIONALIDADE == 2'))\n",
        "estrangeiro = len(dados.query('TP_NACIONALIDADE == 3'))\n",
        "brasileiro_nascido_exterior = len(dados.query('TP_NACIONALIDADE == 4'))\n",
        "\n",
        "print(f'''\n",
        "{brasileiro} candidatos brasileiros\n",
        "{brasileiro_naturalizado} candidatos brasileiros naturalizados\n",
        "{estrangeiro} candidatos estrangeiros\n",
        "{brasileiro_nascido_exterior} candidatos brasileiros nascidos no exterior\n",
        "''')\n",
        "\n",
        "# representatividade\n",
        "rep_brasileiro = brasileiro / total_de_candidatos * 100\n",
        "rep_brasileiro_naturalizado = brasileiro_naturalizado / total_de_candidatos * 100\n",
        "rep_estrangeiro = estrangeiro / total_de_candidatos * 100\n",
        "rep_brasileiro_nascido_exterior = brasileiro_nascido_exterior / total_de_candidatos * 100\n",
        "\n",
        "print(f'''\n",
        "{rep_brasileiro:.2f}% dos candidatos são brasileiros\n",
        "{rep_brasileiro_naturalizado:.2f}% dos candidatos são brasileiros naturalizados\n",
        "{rep_estrangeiro:.2f}% dos candidatos são estrangeiros\n",
        "{rep_brasileiro_nascido_exterior:.2f}% dos candidatos são brasileiros nascidos no exterior\n",
        "''')"
      ],
      "metadata": {
        "colab": {
          "base_uri": "https://localhost:8080/"
        },
        "id": "qRe8s0tgiCMm",
        "outputId": "ed1649e8-6f9c-4a81-82fb-d99de07a73ea"
      },
      "id": "qRe8s0tgiCMm",
      "execution_count": 6,
      "outputs": [
        {
          "output_type": "stream",
          "name": "stdout",
          "text": [
            "\n",
            "3310876 candidatos brasileiros\n",
            "65525 candidatos brasileiros naturalizados\n",
            "4562 candidatos estrangeiros\n",
            "6526 candidatos brasileiros nascidos no exterior\n",
            "\n",
            "\n",
            "97.67% dos candidatos são brasileiros\n",
            "1.93% dos candidatos são brasileiros naturalizados\n",
            "0.13% dos candidatos são estrangeiros\n",
            "0.19% dos candidatos são brasileiros nascidos no exterior\n",
            "\n"
          ]
        }
      ]
    },
    {
      "cell_type": "code",
      "source": [
        "# candidatos que estudam em escola pública ou particular\n",
        "candidato_escola_sem_resposta = len(dados.query('TP_ESCOLA == 1'))\n",
        "candidato_escola_publica = len(dados.query('TP_ESCOLA == 2'))\n",
        "candidato_escola_particular = len(dados.query('TP_ESCOLA == 3'))\n",
        "\n",
        "print(f'''\n",
        "{candidato_escola_sem_resposta} candidatos não informaram\n",
        "{candidato_escola_publica} dos candidatos estudam em escola pública\n",
        "{candidato_escola_particular} dos candidatos estudam em escola particular\n",
        "''')\n",
        "\n",
        "# representatividade\n",
        "rep_candidato_escola_sem_resposta = candidato_escola_sem_resposta / total_de_candidatos * 100\n",
        "rep_candidato_escola_publica = candidato_escola_publica / total_de_candidatos * 100\n",
        "rep_candidato_escola_particular = candidato_escola_particular / total_de_candidatos * 100\n",
        "\n",
        "print(f'''\n",
        "{rep_candidato_escola_sem_resposta:.2f}% dos candidatos não responderam\n",
        "{rep_candidato_escola_publica:.2f}% dos candidatos estudam em escola pública\n",
        "{rep_candidato_escola_particular:.2f}% dos candidatos estudam em escola particular\n",
        "''')"
      ],
      "metadata": {
        "colab": {
          "base_uri": "https://localhost:8080/"
        },
        "id": "aBlVRCplG6Ww",
        "outputId": "e1029081-5dd7-419d-9769-46ab72bf6ae5"
      },
      "id": "aBlVRCplG6Ww",
      "execution_count": 10,
      "outputs": [
        {
          "output_type": "stream",
          "name": "stdout",
          "text": [
            "\n",
            "2238977 candidatos não informaram\n",
            "958611 dos candidatos estudam em escola pública\n",
            "192244 dos candidatos estudam em escola particular\n",
            "\n",
            "\n",
            "66.05% dos candidatos não responderam\n",
            "28.28% dos candidatos estudam em escola pública\n",
            "5.67% dos candidatos estudam em escola particular\n",
            "\n"
          ]
        }
      ]
    },
    {
      "cell_type": "code",
      "source": [
        "# candidatos que estudam em escola pública ou particular por raça\n",
        "branco_tp_escola = list(dados.query('TP_COR_RACA == 1')['TP_ESCOLA'].value_counts())\n",
        "candidato_escola_publica_branco = branco_tp_escola[1]\n",
        "candidato_escola_particular_branco = branco_tp_escola[2]\n",
        "\n",
        "negro_tp_escola = list(dados.query('TP_COR_RACA == 2')['TP_ESCOLA'].value_counts())\n",
        "candidato_escola_publica_negro = negro_tp_escola[1]\n",
        "candidato_escola_particular_negro = negro_tp_escola[2]\n",
        "\n",
        "pardo_tp_escola = list(dados.query('TP_COR_RACA == 3')['TP_ESCOLA'].value_counts())\n",
        "candidato_escola_publica_pardo = pardo_tp_escola[1]\n",
        "candidato_escola_particular_pardo = pardo_tp_escola[2]\n",
        "\n",
        "amarelo_tp_escola = list(dados.query('TP_COR_RACA == 4')['TP_ESCOLA'].value_counts())\n",
        "candidato_escola_publica_amarelo = amarelo_tp_escola[1]\n",
        "candidato_escola_particular_amarelo = amarelo_tp_escola[2]\n",
        "\n",
        "indigena_tp_escola = list(dados.query('TP_COR_RACA == 5')['TP_ESCOLA'].value_counts())\n",
        "candidato_escola_publica_indigena = indigena_tp_escola[1]\n",
        "candidato_escola_particular_indigena = indigena_tp_escola[2]\n",
        "\n",
        "print(f'''\n",
        "Dos candidatos brancos, {candidato_escola_publica_branco} estudam em escola pública e {candidato_escola_particular_branco} estudam em escola particular\n",
        "Dos candidatos negros, {candidato_escola_publica_negro} estudam em escola pública e {candidato_escola_particular_negro} estudam em escola particular\n",
        "Dos candidatos pardos, {candidato_escola_publica_pardo} estudam em escola pública e {candidato_escola_particular_pardo} estudam em escola particular\n",
        "Dos candidatos amarelos, {candidato_escola_publica_amarelo} estudam em escola pública e {candidato_escola_particular_amarelo} estudam em escola particular\n",
        "Dos candidatos indígenas, {candidato_escola_publica_indigena} estudam em escola pública e {candidato_escola_particular_indigena} estudam em escola particular\n",
        "''')\n",
        "\n",
        "# representatividade\n",
        "rep_candidato_escola_publica_branco = candidato_escola_publica_branco / total_de_candidatos * 100\n",
        "rep_candidato_escola_particular_branco = candidato_escola_particular_branco / total_de_candidatos * 100\n",
        "\n",
        "rep_candidato_escola_publica_negro = candidato_escola_publica_negro / total_de_candidatos * 100\n",
        "rep_candidato_escola_particular_negro = candidato_escola_particular_negro / total_de_candidatos * 100\n",
        "\n",
        "rep_candidato_escola_publica_pardo = candidato_escola_publica_pardo / total_de_candidatos * 100\n",
        "rep_candidato_escola_particular_pardo = candidato_escola_particular_pardo / total_de_candidatos * 100\n",
        "\n",
        "rep_candidato_escola_publica_amarelo = candidato_escola_publica_amarelo / total_de_candidatos * 100\n",
        "rep_candidato_escola_particular_amarelo = candidato_escola_particular_amarelo / total_de_candidatos * 100\n",
        "\n",
        "rep_candidato_escola_publica_indigena = candidato_escola_publica_indigena / total_de_candidatos * 100\n",
        "rep_candidato_escola_particular_indigena = candidato_escola_particular_indigena / total_de_candidatos * 100\n",
        "\n",
        "print(f'''\n",
        "Dos candidatos brancos, {rep_candidato_escola_publica_branco:.2f}% estudam em escola pública e {rep_candidato_escola_particular_branco:.2f}% estudam em escola particular\n",
        "Dos candidatos negros, {rep_candidato_escola_publica_negro:.2f}% estudam em escola pública e {rep_candidato_escola_particular_negro:.2f}% estudam em escola particular\n",
        "Dos candidatos pardos, {rep_candidato_escola_publica_pardo:.2f}% estudam em escola pública e {rep_candidato_escola_particular_pardo:.2f}% estudam em escola particular\n",
        "Dos candidatos amarelos, {rep_candidato_escola_publica_amarelo:.2f}% estudam em escola pública e {rep_candidato_escola_particular_amarelo:.2f}% estudam em escola particular\n",
        "Dos candidatos indígenas, {rep_candidato_escola_publica_indigena:.2f}% estudam em escola pública e {rep_candidato_escola_particular_indigena:.2f}% estudam em escola particular\n",
        "''')"
      ],
      "metadata": {
        "colab": {
          "base_uri": "https://localhost:8080/"
        },
        "id": "HSryuwLfIM66",
        "outputId": "950985eb-7cf3-42d8-9284-804bc760131d"
      },
      "id": "HSryuwLfIM66",
      "execution_count": 15,
      "outputs": [
        {
          "output_type": "stream",
          "name": "stdout",
          "text": [
            "\n",
            "Dos candidatos brancos, 344109 estudam em escola pública e 132802 estudam em escola particular\n",
            "Dos candidatos negros, 112658 estudam em escola pública e 9455 estudam em escola particular\n",
            "Dos candidatos pardos, 449334 estudam em escola pública e 42650 estudam em escola particular\n",
            "Dos candidatos amarelos, 19092 estudam em escola pública e 3870 estudam em escola particular\n",
            "Dos candidatos indígenas, 6953 estudam em escola pública e 201 estudam em escola particular\n",
            "\n",
            "\n",
            "Dos candidatos brancos, 10.15% estudam em escola pública e 3.92% estudam em escola particular\n",
            "Dos candidatos negros, 3.32% estudam em escola pública e 0.28% estudam em escola particular\n",
            "Dos candidatos pardos, 13.26% estudam em escola pública e 1.26% estudam em escola particular\n",
            "Dos candidatos amarelos, 0.56% estudam em escola pública e 0.11% estudam em escola particular\n",
            "Dos candidatos indígenas, 0.21% estudam em escola pública e 0.01% estudam em escola particular\n",
            "\n"
          ]
        }
      ]
    },
    {
      "cell_type": "code",
      "source": [
        "# candidatos por estado\n",
        "candidato_ac = len(dados.query(\"SG_UF_PROVA == 'AC'\"))\n",
        "candidato_al = len(dados.query(\"SG_UF_PROVA == 'AL'\"))\n",
        "candidato_ap = len(dados.query(\"SG_UF_PROVA == 'AP'\"))\n",
        "candidato_am = len(dados.query(\"SG_UF_PROVA == 'AM'\"))\n",
        "candidato_ba = len(dados.query(\"SG_UF_PROVA == 'BA'\"))\n",
        "candidato_ce = len(dados.query(\"SG_UF_PROVA == 'CE'\"))\n",
        "candidato_df = len(dados.query(\"SG_UF_PROVA == 'DF'\"))\n",
        "candidato_es = len(dados.query(\"SG_UF_PROVA == 'ES'\"))\n",
        "candidato_go = len(dados.query(\"SG_UF_PROVA == 'GO'\"))\n",
        "candidato_ma = len(dados.query(\"SG_UF_PROVA == 'MA'\"))\n",
        "candidato_mt = len(dados.query(\"SG_UF_PROVA == 'MT'\"))\n",
        "candidato_ms = len(dados.query(\"SG_UF_PROVA == 'MS'\"))\n",
        "candidato_mg = len(dados.query(\"SG_UF_PROVA == 'MG'\"))\n",
        "candidato_pa = len(dados.query(\"SG_UF_PROVA == 'PA'\"))\n",
        "candidato_pb = len(dados.query(\"SG_UF_PROVA == 'PB'\"))\n",
        "candidato_pr = len(dados.query(\"SG_UF_PROVA == 'PR'\"))\n",
        "candidato_pe = len(dados.query(\"SG_UF_PROVA == 'PE'\"))\n",
        "candidato_pi = len(dados.query(\"SG_UF_PROVA == 'PI'\"))\n",
        "candidato_rj = len(dados.query(\"SG_UF_PROVA == 'RJ'\"))\n",
        "candidato_rn = len(dados.query(\"SG_UF_PROVA == 'RN'\"))\n",
        "candidato_rs = len(dados.query(\"SG_UF_PROVA == 'RS'\"))\n",
        "candidato_ro = len(dados.query(\"SG_UF_PROVA == 'RO'\"))\n",
        "candidato_rr = len(dados.query(\"SG_UF_PROVA == 'RR'\"))\n",
        "candidato_sc = len(dados.query(\"SG_UF_PROVA == 'SC'\"))\n",
        "candidato_sp = len(dados.query(\"SG_UF_PROVA == 'SP'\"))\n",
        "candidato_se = len(dados.query(\"SG_UF_PROVA == 'SE'\"))\n",
        "candidato_to = len(dados.query(\"SG_UF_PROVA == 'TO'\"))\n",
        "\n",
        "# representatividade\n",
        "\n",
        "rep_candidato_ac = candidato_ac / total_de_candidatos * 100\n",
        "rep_candidato_al = candidato_al / total_de_candidatos * 100\n",
        "rep_candidato_ap = candidato_ap / total_de_candidatos * 100\n",
        "rep_candidato_am = candidato_am / total_de_candidatos * 100\n",
        "rep_candidato_ba = candidato_ba / total_de_candidatos * 100\n",
        "rep_candidato_ce = candidato_ce / total_de_candidatos * 100\n",
        "rep_candidato_df = candidato_df / total_de_candidatos * 100\n",
        "rep_candidato_es = candidato_es / total_de_candidatos * 100\n",
        "rep_candidato_go = candidato_go / total_de_candidatos * 100\n",
        "rep_candidato_ma = candidato_ma / total_de_candidatos * 100\n",
        "rep_candidato_mt = candidato_mt / total_de_candidatos * 100\n",
        "rep_candidato_ms = candidato_ms / total_de_candidatos * 100\n",
        "rep_candidato_mg = candidato_mg / total_de_candidatos * 100\n",
        "rep_candidato_pa = candidato_pa / total_de_candidatos * 100\n",
        "rep_candidato_pb = candidato_pb / total_de_candidatos * 100\n",
        "rep_candidato_pr = candidato_pr / total_de_candidatos * 100\n",
        "rep_candidato_pe = candidato_pe / total_de_candidatos * 100\n",
        "rep_candidato_pi = candidato_pi / total_de_candidatos * 100\n",
        "rep_candidato_rj = candidato_rj / total_de_candidatos * 100\n",
        "rep_candidato_rn = candidato_rn / total_de_candidatos * 100\n",
        "rep_candidato_rs = candidato_rs / total_de_candidatos * 100\n",
        "rep_candidato_ro = candidato_ro / total_de_candidatos * 100\n",
        "rep_candidato_rr = candidato_rr / total_de_candidatos * 100\n",
        "rep_candidato_sc = candidato_sc / total_de_candidatos * 100\n",
        "rep_candidato_sp = candidato_sp / total_de_candidatos * 100\n",
        "rep_candidato_se = candidato_se / total_de_candidatos * 100\n",
        "rep_candidato_to = candidato_to / total_de_candidatos * 100\n",
        "\n",
        "print(f'''\n",
        "{candidato_ac} candidatos, que representam {rep_candidato_ac:.2f}% são do estado do Acre\n",
        "{candidato_al} candidatos, que representam {rep_candidato_al:.2f}% são do estado de Alagoas\n",
        "{candidato_ap} candidatos, que representam {rep_candidato_ap:.2f}% são do estado do Amapá\n",
        "{candidato_am} candidatos, que representam {rep_candidato_am:.2f}% são do estado do Amazonas\n",
        "{candidato_ba} candidatos, que representam {rep_candidato_ba:.2f}% são do estado da Bahia\n",
        "{candidato_ce} candidatos, que representam {rep_candidato_ce:.2f}% são do estado do Ceará\n",
        "{candidato_df} candidatos, que representam {rep_candidato_df:.2f}% são do Distrito Federal\n",
        "{candidato_es} candidatos, que representam {rep_candidato_es:.2f}% são do estado do Espírito Santo\n",
        "{candidato_go} candidatos, que representam {rep_candidato_go:.2f}% são do estado de Goiás\n",
        "{candidato_ma} candidatos, que representam {rep_candidato_ma:.2f}% são do estado do Maranhão\n",
        "{candidato_mt} candidatos, que representam {rep_candidato_mt:.2f}% são do estado do Mato Grosso\n",
        "{candidato_ms} candidatos, que representam {rep_candidato_ms:.2f}% são do estado do Mato Grosso do Sul\n",
        "{candidato_mg} candidatos, que representam {rep_candidato_mg:.2f}% são do estado de Minas Gerais\n",
        "{candidato_pa} candidatos, que representam {rep_candidato_pa:.2f}% são do estado do Pará\n",
        "{candidato_pb} candidatos, que representam {rep_candidato_pb:.2f}% são do estado da Paraíba\n",
        "{candidato_pr} candidatos, que representam {rep_candidato_pr:.2f}% são do estado do Paraná\n",
        "{candidato_pe} candidatos, que representam {rep_candidato_pe:.2f}% são do estado de Pernambuco\n",
        "{candidato_pi} candidatos, que representam {rep_candidato_pi:.2f}% são do estado do Piauí\n",
        "{candidato_rj} candidatos, que representam {rep_candidato_rj:.2f}% são do estado do Rio de Janeiro\n",
        "{candidato_rn} candidatos, que representam {rep_candidato_rn:.2f}% são do estado do Rio Grande do Norte\n",
        "{candidato_rs} candidatos, que representam {rep_candidato_rs:.2f}% são do estado do Rio Grande do Sul\n",
        "{candidato_ro} candidatos, que representam {rep_candidato_ro:.2f}% são do estado de Rondônia\n",
        "{candidato_rr} candidatos, que representam {rep_candidato_rr:.2f}% são do estado de Roraima\n",
        "{candidato_sc} candidatos, que representam {rep_candidato_sc:.2f}% são do estado de Santa Catarina\n",
        "{candidato_sp} candidatos, que representam {rep_candidato_sp:.2f}% são do estado de São Paulo\n",
        "{candidato_se} candidatos, que representam {rep_candidato_se:.2f}% são do estado de Sergipe\n",
        "{candidato_to} candidatos, que representam {rep_candidato_to:.2f}% são do estado de Tocantins\n",
        "''')"
      ],
      "metadata": {
        "colab": {
          "base_uri": "https://localhost:8080/"
        },
        "id": "L9TIeMFJMSCw",
        "outputId": "401d0d22-9431-45ea-d2a5-10f7ef717dd6"
      },
      "id": "L9TIeMFJMSCw",
      "execution_count": 17,
      "outputs": [
        {
          "output_type": "stream",
          "name": "stdout",
          "text": [
            "\n",
            "20336 candidatos, que representam 0.60% são do estado do Acre\n",
            "56584 candidatos, que representam 1.67% são do estado de Alagoas\n",
            "21774 candidatos, que representam 0.64% são do estado do Amapá\n",
            "89778 candidatos, que representam 2.65% são do estado do Amazonas\n",
            "266194 candidatos, que representam 7.85% são do estado da Bahia\n",
            "220517 candidatos, que representam 6.51% são do estado do Ceará\n",
            "67501 candidatos, que representam 1.99% são do Distrito Federal\n",
            "64181 candidatos, que representam 1.89% são do estado do Espírito Santo\n",
            "136915 candidatos, que representam 4.04% são do estado de Goiás\n",
            "127905 candidatos, que representam 3.77% são do estado do Maranhão\n",
            "56085 candidatos, que representam 1.65% são do estado do Mato Grosso\n",
            "42490 candidatos, que representam 1.25% são do estado do Mato Grosso do Sul\n",
            "327829 candidatos, que representam 9.67% são do estado de Minas Gerais\n",
            "185978 candidatos, que representam 5.49% são do estado do Pará\n",
            "102002 candidatos, que representam 3.01% são do estado da Paraíba\n",
            "144282 candidatos, que representam 4.26% são do estado do Paraná\n",
            "193616 candidatos, que representam 5.71% são do estado de Pernambuco\n",
            "79969 candidatos, que representam 2.36% são do estado do Piauí\n",
            "238347 candidatos, que representam 7.03% são do estado do Rio de Janeiro\n",
            "80820 candidatos, que representam 2.38% são do estado do Rio Grande do Norte\n",
            "150484 candidatos, que representam 4.44% são do estado do Rio Grande do Sul\n",
            "32801 candidatos, que representam 0.97% são do estado de Rondônia\n",
            "8056 candidatos, que representam 0.24% são do estado de Roraima\n",
            "80765 candidatos, que representam 2.38% são do estado de Santa Catarina\n",
            "509954 candidatos, que representam 15.04% são do estado de São Paulo\n",
            "53796 candidatos, que representam 1.59% são do estado de Sergipe\n",
            "30873 candidatos, que representam 0.91% são do estado de Tocantins\n",
            "\n"
          ]
        }
      ]
    },
    {
      "cell_type": "code",
      "source": [
        "# presenças nas provas\n",
        "presenca_cn = len(dados.query('TP_PRESENCA_CN == 1'))\n",
        "presenca_ch = len(dados.query('TP_PRESENCA_CH == 1'))\n",
        "presenca_lc = len(dados.query('TP_PRESENCA_LC == 1'))\n",
        "presenca_mt = len(dados.query('TP_PRESENCA_MT == 1'))\n",
        "\n",
        "print(f'''\n",
        "{presenca_cn} candidatos estiveram presente na prova de Ciências da Natureza\n",
        "{presenca_ch} candidatos estiveram presente na prova de Ciências Humanas\n",
        "{presenca_lc} candidatos estiveram presente na prova de Linguagem e Códigos\n",
        "{presenca_mt} candidatos estiveram presente na prova de Matemática\n",
        "''')\n",
        "\n",
        "# representatividade\n",
        "\n",
        "rep_presenca_cn = presenca_cn / total_de_candidatos * 100\n",
        "rep_presenca_ch = presenca_ch / total_de_candidatos * 100\n",
        "rep_presenca_lc = presenca_lc / total_de_candidatos * 100\n",
        "rep_presenca_mt = presenca_mt / total_de_candidatos * 100\n",
        "\n",
        "print(f'''\n",
        "{rep_presenca_cn:.2f}% dos candidatos estiveram presente na prova de Ciências da Natureza\n",
        "{rep_presenca_ch:.2f}% dos candidatos estiveram presente na prova de Ciências Humanas\n",
        "{rep_presenca_lc:.2f}% dos candidatos estiveram presente na prova de Linguagem e Códigos\n",
        "{rep_presenca_mt:.2f}% dos candidatos estiveram presente na prova de Matemática\n",
        "''')"
      ],
      "metadata": {
        "colab": {
          "base_uri": "https://localhost:8080/"
        },
        "id": "aLBgB-9YReJY",
        "outputId": "de55efa0-5219-47d0-c374-1fa9465dbf18"
      },
      "id": "aLBgB-9YReJY",
      "execution_count": 21,
      "outputs": [
        {
          "output_type": "stream",
          "name": "stdout",
          "text": [
            "\n",
            "2245844 candidatos estiveram presente na prova de Ciências da Natureza\n",
            "2378379 candidatos estiveram presente na prova de Ciências Humanas\n",
            "2378379 candidatos estiveram presente na prova de Linguagem e Códigos\n",
            "2245844 candidatos estiveram presente na prova de Matemática\n",
            "\n",
            "\n",
            "66.25% dos candidatos estiveram presente na prova de Ciências da Natureza\n",
            "70.16% dos candidatos estiveram presente na prova de Ciências Humanas\n",
            "70.16% dos candidatos estiveram presente na prova de Linguagem e Códigos\n",
            "66.25% dos candidatos estiveram presente na prova de Matemática\n",
            "\n"
          ]
        }
      ]
    },
    {
      "cell_type": "code",
      "source": [
        "# faltas nas provas\n",
        "falta_cn = len(dados.query('TP_PRESENCA_CN == 0'))\n",
        "falta_ch = len(dados.query('TP_PRESENCA_CH == 0'))\n",
        "falta_lc = len(dados.query('TP_PRESENCA_LC == 0'))\n",
        "falta_mt = len(dados.query('TP_PRESENCA_MT == 0'))\n",
        "\n",
        "print(f'''\n",
        "{falta_cn} candidatos faltaram na prova de Ciências da Natureza\n",
        "{falta_ch} candidatos faltaram na prova de Ciências Humanas\n",
        "{falta_lc} candidatos faltaram na prova de Linguagem e Códigos\n",
        "{falta_mt} candidatos faltaram na prova de Matemática\n",
        "''')\n",
        "\n",
        "# representatividade\n",
        "\n",
        "rep_falta_cn = falta_cn / total_de_candidatos * 100\n",
        "rep_falta_ch = falta_ch / total_de_candidatos * 100\n",
        "rep_falta_lc = falta_lc / total_de_candidatos * 100\n",
        "rep_falta_mt = falta_mt / total_de_candidatos * 100\n",
        "\n",
        "print(f'''\n",
        "{rep_falta_cn:.2f}% dos candidatos faltaram na prova de Ciências da Natureza\n",
        "{rep_falta_ch:.2f}% dos candidatos faltaram na prova de Ciências Humanas\n",
        "{rep_falta_lc:.2f}% dos candidatos faltaram na prova de Linguagem e Códigos\n",
        "{rep_falta_mt:.2f}% dos candidatos faltaram na prova de Matemática\n",
        "''')"
      ],
      "metadata": {
        "colab": {
          "base_uri": "https://localhost:8080/"
        },
        "id": "K7vXEI7JYpMH",
        "outputId": "c38a57a0-0956-477c-9c12-7140483d288c"
      },
      "id": "K7vXEI7JYpMH",
      "execution_count": 23,
      "outputs": [
        {
          "output_type": "stream",
          "name": "stdout",
          "text": [
            "\n",
            "1142539 candidatos faltaram na prova de Ciências da Natureza\n",
            "1007397 candidatos faltaram na prova de Ciências Humanas\n",
            "1007397 candidatos faltaram na prova de Linguagem e Códigos\n",
            "1142539 candidatos faltaram na prova de Matemática\n",
            "\n",
            "\n",
            "33.70% dos candidatos faltaram na prova de Ciências da Natureza\n",
            "29.72% dos candidatos faltaram na prova de Ciências Humanas\n",
            "29.72% dos candidatos faltaram na prova de Linguagem e Códigos\n",
            "33.70% dos candidatos faltaram na prova de Matemática\n",
            "\n"
          ]
        }
      ]
    },
    {
      "cell_type": "markdown",
      "source": [
        "## Outras análises"
      ],
      "metadata": {
        "id": "X-bqsJA-dq5O"
      },
      "id": "X-bqsJA-dq5O"
    },
    {
      "cell_type": "code",
      "source": [
        "# candidatos sem computador em casa\n",
        "candidatos_sem_computador = len(dados.query(\"Q024 == 'A'\"))\n",
        "\n",
        "print(f'''\n",
        "{candidatos_sem_computador} candidatos não possuem um computador em casa\n",
        "''')"
      ],
      "metadata": {
        "colab": {
          "base_uri": "https://localhost:8080/"
        },
        "id": "2PShoMgobukf",
        "outputId": "49cb3ea2-941e-47e4-c593-6805c9420dd5"
      },
      "id": "2PShoMgobukf",
      "execution_count": 31,
      "outputs": [
        {
          "output_type": "stream",
          "name": "stdout",
          "text": [
            "\n",
            "1436524 candidatos não possuem um computador em casa\n",
            "\n"
          ]
        }
      ]
    },
    {
      "cell_type": "code",
      "source": [
        "# candidatos sem acesso a internet\n",
        "candidatos_sem_acesso = len(dados.query(\"Q025 == 'A'\"))\n",
        "\n",
        "print(f'''\n",
        "{candidatos_sem_acesso} candidatos não tem acesso a internet em sua casa\n",
        "''')"
      ],
      "metadata": {
        "colab": {
          "base_uri": "https://localhost:8080/"
        },
        "id": "dARo6vtFZ3oG",
        "outputId": "df204564-8e73-4354-90a3-966152546de6"
      },
      "id": "dARo6vtFZ3oG",
      "execution_count": 30,
      "outputs": [
        {
          "output_type": "stream",
          "name": "stdout",
          "text": [
            "\n",
            "352198 candidatos não tem acesso a internet em sua casa\n",
            "\n"
          ]
        }
      ]
    },
    {
      "cell_type": "code",
      "source": [
        "# candidatos que não tem um banheiro em casa\n",
        "candidato_sem_banheiro = len(dados.query(\"Q008 == 'A'\"))\n",
        "\n",
        "print(f'''\n",
        "{candidato_sem_banheiro} candidatos não possuem banheiro em casa\n",
        "''')"
      ],
      "metadata": {
        "colab": {
          "base_uri": "https://localhost:8080/"
        },
        "id": "Zk_Jqut3auJQ",
        "outputId": "72744d5a-51e4-406c-87a3-47c615388d25"
      },
      "id": "Zk_Jqut3auJQ",
      "execution_count": 28,
      "outputs": [
        {
          "output_type": "stream",
          "name": "stdout",
          "text": [
            "\n",
            "22665 candidatos não possuem banheiro em casa\n",
            "\n"
          ]
        }
      ]
    },
    {
      "cell_type": "code",
      "source": [
        "# candidatos que não possuem geladeira em casa\n",
        "candidato_sem_geladeira = len(dados.query(\"Q012 == 'A'\"))\n",
        "\n",
        "print(f'''\n",
        "{candidato_sem_geladeira} candidatos não possuem geladeira em casa\n",
        "''')"
      ],
      "metadata": {
        "colab": {
          "base_uri": "https://localhost:8080/"
        },
        "id": "vT3nQ20JbZHu",
        "outputId": "3fdc59da-6c3b-433d-d85c-b8fff397dfbf"
      },
      "id": "vT3nQ20JbZHu",
      "execution_count": 29,
      "outputs": [
        {
          "output_type": "stream",
          "name": "stdout",
          "text": [
            "\n",
            "44569 candidatos não possuem geladeira em casa\n",
            "\n"
          ]
        }
      ]
    },
    {
      "cell_type": "code",
      "source": [
        "# candidatos sem quarto pra dormir em casa\n",
        "candidato_sem_quarto = len(dados.query(\"Q009 == 'A'\"))\n",
        "\n",
        "print(f'''\n",
        "{candidato_sem_quarto} candidatos não possuem quarto para dormir\n",
        "''')"
      ],
      "metadata": {
        "colab": {
          "base_uri": "https://localhost:8080/"
        },
        "id": "ipMuj9kfcuLW",
        "outputId": "a01dc731-df33-4d0f-8921-137afe4d86f1"
      },
      "id": "ipMuj9kfcuLW",
      "execution_count": 33,
      "outputs": [
        {
          "output_type": "stream",
          "name": "stdout",
          "text": [
            "\n",
            "23991 candidatos não possuem quarto para dormir\n",
            "\n"
          ]
        }
      ]
    },
    {
      "cell_type": "code",
      "source": [
        "# candidatos em que o pai e a mãe nunca estudaram\n",
        "pai_nunca_estudou = len(dados.query(\"Q001 == 'A'\"))\n",
        "mae_nunca_estudou = len(dados.query(\"Q002 == 'A'\"))\n",
        "\n",
        "print(f'''\n",
        "{pai_nunca_estudou} dos candidatos tem um pai que nunca estudou\n",
        "{mae_nunca_estudou} dos candidatos tem uma mãe que nunca estudou\n",
        "''')"
      ],
      "metadata": {
        "colab": {
          "base_uri": "https://localhost:8080/"
        },
        "id": "1TVarbFhdJPr",
        "outputId": "a78b639d-a3ce-49a3-f2e7-5189ee88b216"
      },
      "id": "1TVarbFhdJPr",
      "execution_count": 34,
      "outputs": [
        {
          "output_type": "stream",
          "name": "stdout",
          "text": [
            "\n",
            "148389 dos candidatos tem um pai que nunca estudou\n",
            "99094 dos candidatos tem uma mãe que nunca estudou\n",
            "\n"
          ]
        }
      ]
    }
  ],
  "metadata": {
    "kernelspec": {
      "display_name": "Python 3 (ipykernel)",
      "language": "python",
      "name": "python3"
    },
    "language_info": {
      "codemirror_mode": {
        "name": "ipython",
        "version": 3
      },
      "file_extension": ".py",
      "mimetype": "text/x-python",
      "name": "python",
      "nbconvert_exporter": "python",
      "pygments_lexer": "ipython3",
      "version": "3.10.8"
    },
    "colab": {
      "provenance": []
    }
  },
  "nbformat": 4,
  "nbformat_minor": 5
}