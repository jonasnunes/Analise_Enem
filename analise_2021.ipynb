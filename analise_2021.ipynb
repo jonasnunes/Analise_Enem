{
  "cells": [
    {
      "cell_type": "markdown",
      "id": "093cefbe",
      "metadata": {
        "id": "093cefbe"
      },
      "source": [
        "# Análise dos dados do Enem no ano de 2021"
      ]
    },
    {
      "cell_type": "code",
      "execution_count": 23,
      "id": "4c981a63",
      "metadata": {
        "colab": {
          "base_uri": "https://localhost:8080/",
          "height": 318
        },
        "id": "4c981a63",
        "outputId": "ba7e180d-804a-4480-90c9-63bfaa59b7a4"
      },
      "outputs": [
        {
          "output_type": "stream",
          "name": "stdout",
          "text": [
            "Drive already mounted at /content/drive; to attempt to forcibly remount, call drive.mount(\"/content/drive\", force_remount=True).\n"
          ]
        },
        {
          "output_type": "execute_result",
          "data": {
            "text/plain": [
              "   NU_INSCRICAO  NU_ANO  TP_FAIXA_ETARIA TP_SEXO  TP_ESTADO_CIVIL  \\\n",
              "0  210053865474    2021                5       F                1   \n",
              "1  210052384164    2021               12       M                1   \n",
              "2  210052589243    2021               13       F                3   \n",
              "3  210052128335    2021                3       M                1   \n",
              "4  210051353021    2021                2       F                1   \n",
              "\n",
              "   TP_COR_RACA  TP_NACIONALIDADE  TP_ST_CONCLUSAO  TP_ANO_CONCLUIU  TP_ESCOLA  \\\n",
              "0            1                 1                1                3          1   \n",
              "1            1                 1                1               11          1   \n",
              "2            1                 1                1               15          1   \n",
              "3            3                 1                2                0          2   \n",
              "4            3                 1                2                0          2   \n",
              "\n",
              "   ...  Q016  Q017  Q018 Q019  Q020 Q021  Q022  Q023  Q024  Q025  \n",
              "0  ...     A     A     A    B     A    A     B     A     B     B  \n",
              "1  ...     A     A     A    B     A    A     C     A     A     A  \n",
              "2  ...     B     A     A    B     A    A     C     B     B     B  \n",
              "3  ...     A     A     A    B     A    A     B     A     B     B  \n",
              "4  ...     B     A     A    B     A    B     E     A     B     B  \n",
              "\n",
              "[5 rows x 76 columns]"
            ],
            "text/html": [
              "\n",
              "  <div id=\"df-06d2f351-346f-4ba4-9d16-d161a5cf87ac\">\n",
              "    <div class=\"colab-df-container\">\n",
              "      <div>\n",
              "<style scoped>\n",
              "    .dataframe tbody tr th:only-of-type {\n",
              "        vertical-align: middle;\n",
              "    }\n",
              "\n",
              "    .dataframe tbody tr th {\n",
              "        vertical-align: top;\n",
              "    }\n",
              "\n",
              "    .dataframe thead th {\n",
              "        text-align: right;\n",
              "    }\n",
              "</style>\n",
              "<table border=\"1\" class=\"dataframe\">\n",
              "  <thead>\n",
              "    <tr style=\"text-align: right;\">\n",
              "      <th></th>\n",
              "      <th>NU_INSCRICAO</th>\n",
              "      <th>NU_ANO</th>\n",
              "      <th>TP_FAIXA_ETARIA</th>\n",
              "      <th>TP_SEXO</th>\n",
              "      <th>TP_ESTADO_CIVIL</th>\n",
              "      <th>TP_COR_RACA</th>\n",
              "      <th>TP_NACIONALIDADE</th>\n",
              "      <th>TP_ST_CONCLUSAO</th>\n",
              "      <th>TP_ANO_CONCLUIU</th>\n",
              "      <th>TP_ESCOLA</th>\n",
              "      <th>...</th>\n",
              "      <th>Q016</th>\n",
              "      <th>Q017</th>\n",
              "      <th>Q018</th>\n",
              "      <th>Q019</th>\n",
              "      <th>Q020</th>\n",
              "      <th>Q021</th>\n",
              "      <th>Q022</th>\n",
              "      <th>Q023</th>\n",
              "      <th>Q024</th>\n",
              "      <th>Q025</th>\n",
              "    </tr>\n",
              "  </thead>\n",
              "  <tbody>\n",
              "    <tr>\n",
              "      <th>0</th>\n",
              "      <td>210053865474</td>\n",
              "      <td>2021</td>\n",
              "      <td>5</td>\n",
              "      <td>F</td>\n",
              "      <td>1</td>\n",
              "      <td>1</td>\n",
              "      <td>1</td>\n",
              "      <td>1</td>\n",
              "      <td>3</td>\n",
              "      <td>1</td>\n",
              "      <td>...</td>\n",
              "      <td>A</td>\n",
              "      <td>A</td>\n",
              "      <td>A</td>\n",
              "      <td>B</td>\n",
              "      <td>A</td>\n",
              "      <td>A</td>\n",
              "      <td>B</td>\n",
              "      <td>A</td>\n",
              "      <td>B</td>\n",
              "      <td>B</td>\n",
              "    </tr>\n",
              "    <tr>\n",
              "      <th>1</th>\n",
              "      <td>210052384164</td>\n",
              "      <td>2021</td>\n",
              "      <td>12</td>\n",
              "      <td>M</td>\n",
              "      <td>1</td>\n",
              "      <td>1</td>\n",
              "      <td>1</td>\n",
              "      <td>1</td>\n",
              "      <td>11</td>\n",
              "      <td>1</td>\n",
              "      <td>...</td>\n",
              "      <td>A</td>\n",
              "      <td>A</td>\n",
              "      <td>A</td>\n",
              "      <td>B</td>\n",
              "      <td>A</td>\n",
              "      <td>A</td>\n",
              "      <td>C</td>\n",
              "      <td>A</td>\n",
              "      <td>A</td>\n",
              "      <td>A</td>\n",
              "    </tr>\n",
              "    <tr>\n",
              "      <th>2</th>\n",
              "      <td>210052589243</td>\n",
              "      <td>2021</td>\n",
              "      <td>13</td>\n",
              "      <td>F</td>\n",
              "      <td>3</td>\n",
              "      <td>1</td>\n",
              "      <td>1</td>\n",
              "      <td>1</td>\n",
              "      <td>15</td>\n",
              "      <td>1</td>\n",
              "      <td>...</td>\n",
              "      <td>B</td>\n",
              "      <td>A</td>\n",
              "      <td>A</td>\n",
              "      <td>B</td>\n",
              "      <td>A</td>\n",
              "      <td>A</td>\n",
              "      <td>C</td>\n",
              "      <td>B</td>\n",
              "      <td>B</td>\n",
              "      <td>B</td>\n",
              "    </tr>\n",
              "    <tr>\n",
              "      <th>3</th>\n",
              "      <td>210052128335</td>\n",
              "      <td>2021</td>\n",
              "      <td>3</td>\n",
              "      <td>M</td>\n",
              "      <td>1</td>\n",
              "      <td>3</td>\n",
              "      <td>1</td>\n",
              "      <td>2</td>\n",
              "      <td>0</td>\n",
              "      <td>2</td>\n",
              "      <td>...</td>\n",
              "      <td>A</td>\n",
              "      <td>A</td>\n",
              "      <td>A</td>\n",
              "      <td>B</td>\n",
              "      <td>A</td>\n",
              "      <td>A</td>\n",
              "      <td>B</td>\n",
              "      <td>A</td>\n",
              "      <td>B</td>\n",
              "      <td>B</td>\n",
              "    </tr>\n",
              "    <tr>\n",
              "      <th>4</th>\n",
              "      <td>210051353021</td>\n",
              "      <td>2021</td>\n",
              "      <td>2</td>\n",
              "      <td>F</td>\n",
              "      <td>1</td>\n",
              "      <td>3</td>\n",
              "      <td>1</td>\n",
              "      <td>2</td>\n",
              "      <td>0</td>\n",
              "      <td>2</td>\n",
              "      <td>...</td>\n",
              "      <td>B</td>\n",
              "      <td>A</td>\n",
              "      <td>A</td>\n",
              "      <td>B</td>\n",
              "      <td>A</td>\n",
              "      <td>B</td>\n",
              "      <td>E</td>\n",
              "      <td>A</td>\n",
              "      <td>B</td>\n",
              "      <td>B</td>\n",
              "    </tr>\n",
              "  </tbody>\n",
              "</table>\n",
              "<p>5 rows × 76 columns</p>\n",
              "</div>\n",
              "      <button class=\"colab-df-convert\" onclick=\"convertToInteractive('df-06d2f351-346f-4ba4-9d16-d161a5cf87ac')\"\n",
              "              title=\"Convert this dataframe to an interactive table.\"\n",
              "              style=\"display:none;\">\n",
              "        \n",
              "  <svg xmlns=\"http://www.w3.org/2000/svg\" height=\"24px\"viewBox=\"0 0 24 24\"\n",
              "       width=\"24px\">\n",
              "    <path d=\"M0 0h24v24H0V0z\" fill=\"none\"/>\n",
              "    <path d=\"M18.56 5.44l.94 2.06.94-2.06 2.06-.94-2.06-.94-.94-2.06-.94 2.06-2.06.94zm-11 1L8.5 8.5l.94-2.06 2.06-.94-2.06-.94L8.5 2.5l-.94 2.06-2.06.94zm10 10l.94 2.06.94-2.06 2.06-.94-2.06-.94-.94-2.06-.94 2.06-2.06.94z\"/><path d=\"M17.41 7.96l-1.37-1.37c-.4-.4-.92-.59-1.43-.59-.52 0-1.04.2-1.43.59L10.3 9.45l-7.72 7.72c-.78.78-.78 2.05 0 2.83L4 21.41c.39.39.9.59 1.41.59.51 0 1.02-.2 1.41-.59l7.78-7.78 2.81-2.81c.8-.78.8-2.07 0-2.86zM5.41 20L4 18.59l7.72-7.72 1.47 1.35L5.41 20z\"/>\n",
              "  </svg>\n",
              "      </button>\n",
              "      \n",
              "  <style>\n",
              "    .colab-df-container {\n",
              "      display:flex;\n",
              "      flex-wrap:wrap;\n",
              "      gap: 12px;\n",
              "    }\n",
              "\n",
              "    .colab-df-convert {\n",
              "      background-color: #E8F0FE;\n",
              "      border: none;\n",
              "      border-radius: 50%;\n",
              "      cursor: pointer;\n",
              "      display: none;\n",
              "      fill: #1967D2;\n",
              "      height: 32px;\n",
              "      padding: 0 0 0 0;\n",
              "      width: 32px;\n",
              "    }\n",
              "\n",
              "    .colab-df-convert:hover {\n",
              "      background-color: #E2EBFA;\n",
              "      box-shadow: 0px 1px 2px rgba(60, 64, 67, 0.3), 0px 1px 3px 1px rgba(60, 64, 67, 0.15);\n",
              "      fill: #174EA6;\n",
              "    }\n",
              "\n",
              "    [theme=dark] .colab-df-convert {\n",
              "      background-color: #3B4455;\n",
              "      fill: #D2E3FC;\n",
              "    }\n",
              "\n",
              "    [theme=dark] .colab-df-convert:hover {\n",
              "      background-color: #434B5C;\n",
              "      box-shadow: 0px 1px 3px 1px rgba(0, 0, 0, 0.15);\n",
              "      filter: drop-shadow(0px 1px 2px rgba(0, 0, 0, 0.3));\n",
              "      fill: #FFFFFF;\n",
              "    }\n",
              "  </style>\n",
              "\n",
              "      <script>\n",
              "        const buttonEl =\n",
              "          document.querySelector('#df-06d2f351-346f-4ba4-9d16-d161a5cf87ac button.colab-df-convert');\n",
              "        buttonEl.style.display =\n",
              "          google.colab.kernel.accessAllowed ? 'block' : 'none';\n",
              "\n",
              "        async function convertToInteractive(key) {\n",
              "          const element = document.querySelector('#df-06d2f351-346f-4ba4-9d16-d161a5cf87ac');\n",
              "          const dataTable =\n",
              "            await google.colab.kernel.invokeFunction('convertToInteractive',\n",
              "                                                     [key], {});\n",
              "          if (!dataTable) return;\n",
              "\n",
              "          const docLinkHtml = 'Like what you see? Visit the ' +\n",
              "            '<a target=\"_blank\" href=https://colab.research.google.com/notebooks/data_table.ipynb>data table notebook</a>'\n",
              "            + ' to learn more about interactive tables.';\n",
              "          element.innerHTML = '';\n",
              "          dataTable['output_type'] = 'display_data';\n",
              "          await google.colab.output.renderOutput(dataTable, element);\n",
              "          const docLink = document.createElement('div');\n",
              "          docLink.innerHTML = docLinkHtml;\n",
              "          element.appendChild(docLink);\n",
              "        }\n",
              "      </script>\n",
              "    </div>\n",
              "  </div>\n",
              "  "
            ]
          },
          "metadata": {},
          "execution_count": 23
        }
      ],
      "source": [
        "import pandas as pd\n",
        "from google.colab import drive\n",
        "drive.mount('/content/drive')\n",
        "\n",
        "dados = pd.read_csv('/content/drive/MyDrive/dados_Enem/microdados_enem_2021/DADOS/MICRODADOS_ENEM_2021.csv', encoding='latin1', sep=';')\n",
        "\n",
        "dados.head()"
      ]
    },
    {
      "cell_type": "code",
      "execution_count": 27,
      "id": "3a306e99",
      "metadata": {
        "colab": {
          "base_uri": "https://localhost:8080/"
        },
        "id": "3a306e99",
        "outputId": "c5cbfb79-41c0-48ae-a4f5-9c194f53c5a1"
      },
      "outputs": [
        {
          "output_type": "stream",
          "name": "stdout",
          "text": [
            "A base de dados possui 3389832 linhas e 76 colunas\n"
          ]
        }
      ],
      "source": [
        "linhas_colunas = list(dados.shape)\n",
        "qtde_linhas = linhas_colunas[0]\n",
        "qtde_colunas = linhas_colunas[1]\n",
        "\n",
        "print(f'A base de dados possui {qtde_linhas} linhas e {qtde_colunas} colunas')"
      ]
    },
    {
      "cell_type": "code",
      "source": [
        "total_de_candidatos = len(dados['NU_INSCRICAO'])\n",
        "print(f'Total de candidatos: {total_de_candidatos}')"
      ],
      "metadata": {
        "colab": {
          "base_uri": "https://localhost:8080/"
        },
        "id": "e2HEvtyPWKGy",
        "outputId": "93b64f9a-7f4d-4eec-aa2e-436cb58caab8"
      },
      "id": "e2HEvtyPWKGy",
      "execution_count": 29,
      "outputs": [
        {
          "output_type": "stream",
          "name": "stdout",
          "text": [
            "Total de candidatos: 3389832\n"
          ]
        }
      ]
    },
    {
      "cell_type": "code",
      "source": [
        "# sabendo o nome das colunas\n",
        "dados.columns.values"
      ],
      "metadata": {
        "colab": {
          "base_uri": "https://localhost:8080/"
        },
        "id": "UMbGseXzXL3Q",
        "outputId": "139eddab-54e9-4677-c924-133227856450"
      },
      "id": "UMbGseXzXL3Q",
      "execution_count": 30,
      "outputs": [
        {
          "output_type": "execute_result",
          "data": {
            "text/plain": [
              "array(['NU_INSCRICAO', 'NU_ANO', 'TP_FAIXA_ETARIA', 'TP_SEXO',\n",
              "       'TP_ESTADO_CIVIL', 'TP_COR_RACA', 'TP_NACIONALIDADE',\n",
              "       'TP_ST_CONCLUSAO', 'TP_ANO_CONCLUIU', 'TP_ESCOLA', 'TP_ENSINO',\n",
              "       'IN_TREINEIRO', 'CO_MUNICIPIO_ESC', 'NO_MUNICIPIO_ESC',\n",
              "       'CO_UF_ESC', 'SG_UF_ESC', 'TP_DEPENDENCIA_ADM_ESC',\n",
              "       'TP_LOCALIZACAO_ESC', 'TP_SIT_FUNC_ESC', 'CO_MUNICIPIO_PROVA',\n",
              "       'NO_MUNICIPIO_PROVA', 'CO_UF_PROVA', 'SG_UF_PROVA',\n",
              "       'TP_PRESENCA_CN', 'TP_PRESENCA_CH', 'TP_PRESENCA_LC',\n",
              "       'TP_PRESENCA_MT', 'CO_PROVA_CN', 'CO_PROVA_CH', 'CO_PROVA_LC',\n",
              "       'CO_PROVA_MT', 'NU_NOTA_CN', 'NU_NOTA_CH', 'NU_NOTA_LC',\n",
              "       'NU_NOTA_MT', 'TX_RESPOSTAS_CN', 'TX_RESPOSTAS_CH',\n",
              "       'TX_RESPOSTAS_LC', 'TX_RESPOSTAS_MT', 'TP_LINGUA',\n",
              "       'TX_GABARITO_CN', 'TX_GABARITO_CH', 'TX_GABARITO_LC',\n",
              "       'TX_GABARITO_MT', 'TP_STATUS_REDACAO', 'NU_NOTA_COMP1',\n",
              "       'NU_NOTA_COMP2', 'NU_NOTA_COMP3', 'NU_NOTA_COMP4', 'NU_NOTA_COMP5',\n",
              "       'NU_NOTA_REDACAO', 'Q001', 'Q002', 'Q003', 'Q004', 'Q005', 'Q006',\n",
              "       'Q007', 'Q008', 'Q009', 'Q010', 'Q011', 'Q012', 'Q013', 'Q014',\n",
              "       'Q015', 'Q016', 'Q017', 'Q018', 'Q019', 'Q020', 'Q021', 'Q022',\n",
              "       'Q023', 'Q024', 'Q025'], dtype=object)"
            ]
          },
          "metadata": {},
          "execution_count": 30
        }
      ]
    },
    {
      "cell_type": "code",
      "source": [
        "# estados distintos\n",
        "dados['SG_UF_PROVA'].unique()"
      ],
      "metadata": {
        "colab": {
          "base_uri": "https://localhost:8080/"
        },
        "id": "F6Qm07XoXwYK",
        "outputId": "6513bf3f-a663-4d30-81bf-851be80c2014"
      },
      "id": "F6Qm07XoXwYK",
      "execution_count": 31,
      "outputs": [
        {
          "output_type": "execute_result",
          "data": {
            "text/plain": [
              "array(['MG', 'AL', 'SP', 'CE', 'RS', 'BA', 'GO', 'RN', 'PA', 'RJ', 'MT',\n",
              "       'PE', 'MA', 'RO', 'SE', 'PR', 'PB', 'PI', 'ES', 'DF', 'TO', 'AM',\n",
              "       'SC', 'AP', 'MS', 'RR', 'AC'], dtype=object)"
            ]
          },
          "metadata": {},
          "execution_count": 31
        }
      ]
    },
    {
      "cell_type": "code",
      "source": [
        "# quantidade de estados\n",
        "len(dados['SG_UF_PROVA'].unique())"
      ],
      "metadata": {
        "colab": {
          "base_uri": "https://localhost:8080/"
        },
        "id": "Z4QQpwcZX38L",
        "outputId": "6176f8e9-f718-40b0-af76-000af6db632c"
      },
      "id": "Z4QQpwcZX38L",
      "execution_count": 32,
      "outputs": [
        {
          "output_type": "execute_result",
          "data": {
            "text/plain": [
              "27"
            ]
          },
          "metadata": {},
          "execution_count": 32
        }
      ]
    },
    {
      "cell_type": "code",
      "source": [
        "# quantidade de candidatos por idade\n",
        "candidato_menor_17_anos = len(dados.query('TP_FAIXA_ETARIA == 1'))\n",
        "candidato_17_anos = len(dados.query('TP_FAIXA_ETARIA == 2'))\n",
        "candidato_18_anos = len(dados.query('TP_FAIXA_ETARIA == 3'))\n",
        "candidato_19_anos = len(dados.query('TP_FAIXA_ETARIA == 4'))\n",
        "candidato_20_anos = len(dados.query('TP_FAIXA_ETARIA == 5'))\n",
        "candidato_21_anos = len(dados.query('TP_FAIXA_ETARIA == 6'))\n",
        "candidato_22_anos = len(dados.query('TP_FAIXA_ETARIA == 7'))\n",
        "candidato_23_anos = len(dados.query('TP_FAIXA_ETARIA == 8'))\n",
        "candidato_24_anos = len(dados.query('TP_FAIXA_ETARIA == 9'))\n",
        "candidato_25_anos = len(dados.query('TP_FAIXA_ETARIA == 10'))\n",
        "candidato_26_30_anos = len(dados.query('TP_FAIXA_ETARIA == 11'))\n",
        "candidato_31_35_anos = len(dados.query('TP_FAIXA_ETARIA == 12'))\n",
        "candidato_36_40_anos = len(dados.query('TP_FAIXA_ETARIA == 13'))\n",
        "candidato_41_45_anos = len(dados.query('TP_FAIXA_ETARIA == 14'))\n",
        "candidato_46_50_anos = len(dados.query('TP_FAIXA_ETARIA == 15'))\n",
        "candidato_51_55_anos = len(dados.query('TP_FAIXA_ETARIA == 16'))\n",
        "candidato_56_60_anos = len(dados.query('TP_FAIXA_ETARIA == 17'))\n",
        "candidato_61_65_anos = len(dados.query('TP_FAIXA_ETARIA == 18'))\n",
        "candidato_66_70_anos = len(dados.query('TP_FAIXA_ETARIA == 19'))\n",
        "candidato_maior_70_anos = len(dados.query('TP_FAIXA_ETARIA == 20'))\n",
        "\n",
        "print(f'''\n",
        "{candidato_menor_17_anos} candidatos menores de 17 anos\n",
        "{candidato_17_anos} candidatos com 17 anos\n",
        "{candidato_18_anos} candidatos com 18 anos\n",
        "{candidato_19_anos} candidatos com 19 anos\n",
        "{candidato_20_anos} candidatos com 20 anos\n",
        "{candidato_21_anos} candidatos com 21 anos\n",
        "{candidato_22_anos} candidatos com 22 anos\n",
        "{candidato_23_anos} candidatos com 23 anos\n",
        "{candidato_24_anos} candidatos com 24 anos\n",
        "{candidato_25_anos} candidatos com 25 anos\n",
        "{candidato_26_30_anos} candidatos entre 26 e 30 anos\n",
        "{candidato_31_35_anos} candidatos entre 31 e 35 anos\n",
        "{candidato_36_40_anos} candidatos entre 36 e 40 anos\n",
        "{candidato_41_45_anos} candidatos entre 41 e 45 anos\n",
        "{candidato_46_50_anos} candidatos entre 46 e 50 anos\n",
        "{candidato_51_55_anos} candidatos entre 51 e 55 anos\n",
        "{candidato_56_60_anos} candidatos entre 56 e 60 anos\n",
        "{candidato_61_65_anos} candidatos entre 61 e 65 anos\n",
        "{candidato_66_70_anos} candidatos entre 66 e 70 anos\n",
        "{candidato_maior_70_anos} candidatos acima de 70 anos\n",
        "''')\n",
        "\n",
        "# representatividade\n",
        "rep_candidato_menor_17_anos = candidato_menor_17_anos / total_de_candidatos * 100\n",
        "rep_candidato_17_anos = candidato_17_anos / total_de_candidatos * 100\n",
        "rep_candidato_18_anos = candidato_18_anos / total_de_candidatos * 100\n",
        "rep_candidato_19_anos = candidato_19_anos / total_de_candidatos * 100\n",
        "rep_candidato_20_anos = candidato_20_anos / total_de_candidatos * 100\n",
        "rep_candidato_21_anos = candidato_21_anos / total_de_candidatos * 100\n",
        "rep_candidato_22_anos = candidato_22_anos / total_de_candidatos * 100\n",
        "rep_candidato_23_anos = candidato_23_anos / total_de_candidatos * 100\n",
        "rep_candidato_24_anos = candidato_24_anos / total_de_candidatos * 100\n",
        "rep_candidato_25_anos = candidato_25_anos / total_de_candidatos * 100\n",
        "rep_candidato_26_30_anos = candidato_26_30_anos / total_de_candidatos * 100\n",
        "rep_candidato_31_35_anos = candidato_31_35_anos / total_de_candidatos * 100\n",
        "rep_candidato_36_40_anos = candidato_36_40_anos / total_de_candidatos * 100\n",
        "rep_candidato_41_45_anos = candidato_41_45_anos / total_de_candidatos * 100\n",
        "rep_candidato_46_50_anos = candidato_46_50_anos / total_de_candidatos * 100\n",
        "rep_candidato_51_55_anos = candidato_51_55_anos / total_de_candidatos * 100\n",
        "rep_candidato_56_60_anos = candidato_56_60_anos / total_de_candidatos * 100\n",
        "rep_candidato_61_65_anos = candidato_61_65_anos / total_de_candidatos * 100\n",
        "rep_candidato_66_70_anos = candidato_66_70_anos / total_de_candidatos * 100\n",
        "rep_candidato_maior_70_anos = candidato_maior_70_anos / total_de_candidatos * 100\n",
        "\n",
        "print(f'''\n",
        "{rep_candidato_menor_17_anos:.2f}% dos candidatos são menores de 17 anos\n",
        "{rep_candidato_17_anos:.2f}% dos candidatos tem 17 anos\n",
        "{rep_candidato_18_anos:.2f}% dos candidatos tem 18 anos\n",
        "{rep_candidato_19_anos:.2f}% dos candidatos tem 19 anos\n",
        "{rep_candidato_20_anos:.2f}% dos candidatos tem 20 anos\n",
        "{rep_candidato_21_anos:.2f}% dos candidatos tem 21 anos\n",
        "{rep_candidato_22_anos:.2f}% dos candidatos tem 22 anos\n",
        "{rep_candidato_23_anos:.2f}% dos candidatos tem 23 anos\n",
        "{rep_candidato_24_anos:.2f}% dos candidatos tem 24 anos\n",
        "{rep_candidato_25_anos:.2f}% dos candidatos tem 25 anos\n",
        "{rep_candidato_26_30_anos:.2f}% dos candidatos tem entre 26 e 30 anos\n",
        "{rep_candidato_31_35_anos:.2f}% dos candidatos tem entre 31 e 35 anos\n",
        "{rep_candidato_36_40_anos:.2f}% dos candidatos tem entre 36 e 40 anos\n",
        "{rep_candidato_41_45_anos:.2f}% dos candidatos tem entre 41 e 45 anos\n",
        "{rep_candidato_46_50_anos:.2f}% dos candidatos tem entre 46 e 50 anos\n",
        "{rep_candidato_51_55_anos:.2f}% dos candidatos tem entre 51 e 55 anos\n",
        "{rep_candidato_56_60_anos:.2f}% dos candidatos tem entre 56 e 60 anos\n",
        "{rep_candidato_61_65_anos:.2f}% dos candidatos tem entre 61 e 65 anos\n",
        "{rep_candidato_66_70_anos:.2f}% dos candidatos tem entre 66 e 70 anos\n",
        "{rep_candidato_maior_70_anos:.2f}% dos candidatos estão acima de 70 anos\n",
        "''')"
      ],
      "metadata": {
        "colab": {
          "base_uri": "https://localhost:8080/"
        },
        "id": "Z58Hbc-NYNFc",
        "outputId": "48f58e56-b06a-4758-e7b3-2af2326c63e6"
      },
      "id": "Z58Hbc-NYNFc",
      "execution_count": 46,
      "outputs": [
        {
          "output_type": "stream",
          "name": "stdout",
          "text": [
            "\n",
            "274318 candidatos menores de 17 anos\n",
            "620784 candidatos com 17 anos\n",
            "699365 candidatos com 18 anos\n",
            "394689 candidatos com 19 anos\n",
            "250690 candidatos com 20 anos\n",
            "177086 candidatos com 21 anos\n",
            "132052 candidatos com 22 anos\n",
            "100580 candidatos com 23 anos\n",
            "85742 candidatos com 24 anos\n",
            "71199 candidatos com 25 anos\n",
            "227574 candidatos entre 26 e 30 anos\n",
            "130746 candidatos entre 31 e 35 anos\n",
            "93073 candidatos entre 36 e 40 anos\n",
            "58754 candidatos entre 41 e 45 anos\n",
            "35808 candidatos entre 46 e 50 anos\n",
            "20564 candidatos entre 51 e 55 anos\n",
            "10804 candidatos entre 56 e 60 anos\n",
            "4102 candidatos entre 61 e 65 anos\n",
            "1342 candidatos entre 66 e 70 anos\n",
            "560 candidatos acima de 70 anos\n",
            "\n",
            "\n",
            "8.09% dos candidatos são menores de 17 anos\n",
            "18.31% dos candidatos tem 17 anos\n",
            "20.63% dos candidatos tem 18 anos\n",
            "11.64% dos candidatos tem 19 anos\n",
            "7.40% dos candidatos tem 20 anos\n",
            "5.22% dos candidatos tem 21 anos\n",
            "3.90% dos candidatos tem 22 anos\n",
            "2.97% dos candidatos tem 23 anos\n",
            "2.53% dos candidatos tem 24 anos\n",
            "2.10% dos candidatos tem 25 anos\n",
            "6.71% dos candidatos tem entre 26 e 30 anos\n",
            "3.86% dos candidatos tem entre 31 e 35 anos\n",
            "2.75% dos candidatos tem entre 36 e 40 anos\n",
            "1.73% dos candidatos tem entre 41 e 45 anos\n",
            "1.06% dos candidatos tem entre 46 e 50 anos\n",
            "0.61% dos candidatos tem entre 51 e 55 anos\n",
            "0.32% dos candidatos tem entre 56 e 60 anos\n",
            "0.12% dos candidatos tem entre 61 e 65 anos\n",
            "0.04% dos candidatos tem entre 66 e 70 anos\n",
            "0.02% dos candidatos estão acima de 70 anos\n",
            "\n"
          ]
        }
      ]
    },
    {
      "cell_type": "code",
      "source": [
        "# quantidade de candidatos por sexo\n",
        "candidato_masculino = len(dados.query(\"TP_SEXO == 'M'\"))\n",
        "candidato_feminino = len(dados.query(\"TP_SEXO == 'F'\"))\n",
        "\n",
        "print(f'''\n",
        "{candidato_masculino} candidatos são do sexo masculino\n",
        "{candidato_feminino} candidatos são do sexo feminino\n",
        "''')\n",
        "\n",
        "# representatividade\n",
        "rep_candidato_masculino = candidato_masculino / total_de_candidatos * 100\n",
        "rep_candidato_feminino = candidato_feminino / total_de_candidatos * 100\n",
        "\n",
        "print(f'''\n",
        "{rep_candidato_masculino:.2f}% dos candidatos são do sexo masculino\n",
        "{rep_candidato_feminino:.2f}% dos candidatos são do sexo feminino\n",
        "''')"
      ],
      "metadata": {
        "colab": {
          "base_uri": "https://localhost:8080/"
        },
        "id": "DxTU6TEhbeRx",
        "outputId": "74e10dcb-0237-41c6-da2e-64b42f0f525b"
      },
      "id": "DxTU6TEhbeRx",
      "execution_count": 49,
      "outputs": [
        {
          "output_type": "stream",
          "name": "stdout",
          "text": [
            "\n",
            "1299306 candidatos são do sexo masculino\n",
            "2090526 candidatos são do sexo feminino\n",
            "\n",
            "\n",
            "38.33% dos candidatos são do sexo masculino\n",
            "61.67% dos candidatos são do sexo feminino\n",
            "\n"
          ]
        }
      ]
    },
    {
      "cell_type": "code",
      "source": [
        "# quantidade de candidatos por raça\n",
        "candidato_branco = len(dados.query('TP_COR_RACA == 1'))\n",
        "candidato_negro = len(dados.query('TP_COR_RACA == 2'))\n",
        "candidato_pardo = len(dados.query('TP_COR_RACA == 3'))\n",
        "candidato_amarelo = len(dados.query('TP_COR_RACA == 4'))\n",
        "candidato_indigena = len(dados.query('TP_COR_RACA == 5'))\n",
        "\n",
        "print(f'''\n",
        "{candidato_branco} candidatos brancos\n",
        "{candidato_negro} candidatos negros\n",
        "{candidato_pardo} candidatos pardos\n",
        "{candidato_amarelo} candidatos amarelos\n",
        "{candidato_indigena} candidatos indígenas\n",
        "''')\n",
        "\n",
        "# representatividade\n",
        "rep_candidato_branco = candidato_branco / total_de_candidatos * 100\n",
        "rep_candidato_negro = candidato_negro / total_de_candidatos * 100\n",
        "rep_candidato_pardo = candidato_pardo / total_de_candidatos * 100\n",
        "rep_candidato_amarelo = candidato_amarelo / total_de_candidatos * 100\n",
        "rep_candidato_indigena = candidato_indigena / total_de_candidatos * 100\n",
        "\n",
        "print(f'''\n",
        "{rep_candidato_branco:.2f}% dos candidatos são brancos\n",
        "{rep_candidato_negro:.2f}% dos candidatos são negros\n",
        "{rep_candidato_pardo:.2f}% dos candidatos são pardos\n",
        "{rep_candidato_amarelo:.2f}% dos candidatos são amarelos\n",
        "{rep_candidato_indigena:.2f}% dos candidatos são indígenas\n",
        "''')"
      ],
      "metadata": {
        "colab": {
          "base_uri": "https://localhost:8080/"
        },
        "id": "A1pKCXJfdpgu",
        "outputId": "edb49cfa-d733-42cc-e6e8-418b72984e34"
      },
      "id": "A1pKCXJfdpgu",
      "execution_count": 45,
      "outputs": [
        {
          "output_type": "stream",
          "name": "stdout",
          "text": [
            "\n",
            "1362256 candidatos brancos\n",
            "411302 candidatos negros\n",
            "1457454 candidatos pardos\n",
            "68491 candidatos amarelos\n",
            "19175 candidatos indígenas\n",
            "\n",
            "\n",
            "40.19% dos candidatos são brancos\n",
            "12.13% dos candidatos são negros\n",
            "42.99% dos candidatos são pardos\n",
            "2.02% dos candidatos são amarelos\n",
            "0.57% dos candidatos são indígenas\n",
            "\n"
          ]
        }
      ]
    }
  ],
  "metadata": {
    "kernelspec": {
      "display_name": "Python 3 (ipykernel)",
      "language": "python",
      "name": "python3"
    },
    "language_info": {
      "codemirror_mode": {
        "name": "ipython",
        "version": 3
      },
      "file_extension": ".py",
      "mimetype": "text/x-python",
      "name": "python",
      "nbconvert_exporter": "python",
      "pygments_lexer": "ipython3",
      "version": "3.10.8"
    },
    "colab": {
      "provenance": []
    }
  },
  "nbformat": 4,
  "nbformat_minor": 5
}