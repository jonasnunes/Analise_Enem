{
 "cells": [
  {
   "cell_type": "markdown",
   "id": "fc3efcf8",
   "metadata": {},
   "source": [
    "# Análise dos dados do Enem no ano de 2018"
   ]
  },
  {
   "cell_type": "code",
   "execution_count": 1,
   "id": "ae6ffef6",
   "metadata": {},
   "outputs": [
    {
     "data": {
      "text/html": [
       "<div>\n",
       "<style scoped>\n",
       "    .dataframe tbody tr th:only-of-type {\n",
       "        vertical-align: middle;\n",
       "    }\n",
       "\n",
       "    .dataframe tbody tr th {\n",
       "        vertical-align: top;\n",
       "    }\n",
       "\n",
       "    .dataframe thead th {\n",
       "        text-align: right;\n",
       "    }\n",
       "</style>\n",
       "<table border=\"1\" class=\"dataframe\">\n",
       "  <thead>\n",
       "    <tr style=\"text-align: right;\">\n",
       "      <th></th>\n",
       "      <th>NU_INSCRICAO</th>\n",
       "      <th>NU_ANO</th>\n",
       "      <th>TP_FAIXA_ETARIA</th>\n",
       "      <th>TP_SEXO</th>\n",
       "      <th>TP_ESTADO_CIVIL</th>\n",
       "      <th>TP_COR_RACA</th>\n",
       "      <th>TP_NACIONALIDADE</th>\n",
       "      <th>TP_ST_CONCLUSAO</th>\n",
       "      <th>TP_ANO_CONCLUIU</th>\n",
       "      <th>TP_ESCOLA</th>\n",
       "      <th>...</th>\n",
       "      <th>Q018</th>\n",
       "      <th>Q019</th>\n",
       "      <th>Q020</th>\n",
       "      <th>Q021</th>\n",
       "      <th>Q022</th>\n",
       "      <th>Q023</th>\n",
       "      <th>Q024</th>\n",
       "      <th>Q025</th>\n",
       "      <th>Q026</th>\n",
       "      <th>Q027</th>\n",
       "    </tr>\n",
       "  </thead>\n",
       "  <tbody>\n",
       "    <tr>\n",
       "      <th>0</th>\n",
       "      <td>180007186625</td>\n",
       "      <td>2018</td>\n",
       "      <td>2</td>\n",
       "      <td>F</td>\n",
       "      <td>0.0</td>\n",
       "      <td>4</td>\n",
       "      <td>1</td>\n",
       "      <td>2</td>\n",
       "      <td>0</td>\n",
       "      <td>4</td>\n",
       "      <td>...</td>\n",
       "      <td>B</td>\n",
       "      <td>C</td>\n",
       "      <td>B</td>\n",
       "      <td>B</td>\n",
       "      <td>D</td>\n",
       "      <td>B</td>\n",
       "      <td>C</td>\n",
       "      <td>B</td>\n",
       "      <td>B</td>\n",
       "      <td>D</td>\n",
       "    </tr>\n",
       "    <tr>\n",
       "      <th>1</th>\n",
       "      <td>180007186627</td>\n",
       "      <td>2018</td>\n",
       "      <td>3</td>\n",
       "      <td>F</td>\n",
       "      <td>0.0</td>\n",
       "      <td>4</td>\n",
       "      <td>1</td>\n",
       "      <td>1</td>\n",
       "      <td>1</td>\n",
       "      <td>1</td>\n",
       "      <td>...</td>\n",
       "      <td>A</td>\n",
       "      <td>B</td>\n",
       "      <td>A</td>\n",
       "      <td>A</td>\n",
       "      <td>B</td>\n",
       "      <td>A</td>\n",
       "      <td>A</td>\n",
       "      <td>A</td>\n",
       "      <td>A</td>\n",
       "      <td>A</td>\n",
       "    </tr>\n",
       "    <tr>\n",
       "      <th>2</th>\n",
       "      <td>180007186628</td>\n",
       "      <td>2018</td>\n",
       "      <td>3</td>\n",
       "      <td>M</td>\n",
       "      <td>0.0</td>\n",
       "      <td>0</td>\n",
       "      <td>1</td>\n",
       "      <td>2</td>\n",
       "      <td>0</td>\n",
       "      <td>2</td>\n",
       "      <td>...</td>\n",
       "      <td>A</td>\n",
       "      <td>B</td>\n",
       "      <td>B</td>\n",
       "      <td>A</td>\n",
       "      <td>D</td>\n",
       "      <td>A</td>\n",
       "      <td>A</td>\n",
       "      <td>A</td>\n",
       "      <td>B</td>\n",
       "      <td>A</td>\n",
       "    </tr>\n",
       "    <tr>\n",
       "      <th>3</th>\n",
       "      <td>180007186629</td>\n",
       "      <td>2018</td>\n",
       "      <td>2</td>\n",
       "      <td>F</td>\n",
       "      <td>0.0</td>\n",
       "      <td>3</td>\n",
       "      <td>1</td>\n",
       "      <td>2</td>\n",
       "      <td>0</td>\n",
       "      <td>4</td>\n",
       "      <td>...</td>\n",
       "      <td>A</td>\n",
       "      <td>C</td>\n",
       "      <td>A</td>\n",
       "      <td>B</td>\n",
       "      <td>D</td>\n",
       "      <td>B</td>\n",
       "      <td>A</td>\n",
       "      <td>B</td>\n",
       "      <td>B</td>\n",
       "      <td>B</td>\n",
       "    </tr>\n",
       "    <tr>\n",
       "      <th>4</th>\n",
       "      <td>180007186631</td>\n",
       "      <td>2018</td>\n",
       "      <td>11</td>\n",
       "      <td>F</td>\n",
       "      <td>0.0</td>\n",
       "      <td>5</td>\n",
       "      <td>1</td>\n",
       "      <td>1</td>\n",
       "      <td>6</td>\n",
       "      <td>1</td>\n",
       "      <td>...</td>\n",
       "      <td>A</td>\n",
       "      <td>B</td>\n",
       "      <td>B</td>\n",
       "      <td>A</td>\n",
       "      <td>C</td>\n",
       "      <td>A</td>\n",
       "      <td>B</td>\n",
       "      <td>A</td>\n",
       "      <td>A</td>\n",
       "      <td>A</td>\n",
       "    </tr>\n",
       "  </tbody>\n",
       "</table>\n",
       "<p>5 rows × 78 columns</p>\n",
       "</div>"
      ],
      "text/plain": [
       "   NU_INSCRICAO  NU_ANO  TP_FAIXA_ETARIA TP_SEXO  TP_ESTADO_CIVIL  \\\n",
       "0  180007186625    2018                2       F              0.0   \n",
       "1  180007186627    2018                3       F              0.0   \n",
       "2  180007186628    2018                3       M              0.0   \n",
       "3  180007186629    2018                2       F              0.0   \n",
       "4  180007186631    2018               11       F              0.0   \n",
       "\n",
       "   TP_COR_RACA  TP_NACIONALIDADE  TP_ST_CONCLUSAO  TP_ANO_CONCLUIU  TP_ESCOLA  \\\n",
       "0            4                 1                2                0          4   \n",
       "1            4                 1                1                1          1   \n",
       "2            0                 1                2                0          2   \n",
       "3            3                 1                2                0          4   \n",
       "4            5                 1                1                6          1   \n",
       "\n",
       "   ...  Q018  Q019  Q020 Q021  Q022 Q023  Q024  Q025  Q026  Q027  \n",
       "0  ...     B     C     B    B     D    B     C     B     B     D  \n",
       "1  ...     A     B     A    A     B    A     A     A     A     A  \n",
       "2  ...     A     B     B    A     D    A     A     A     B     A  \n",
       "3  ...     A     C     A    B     D    B     A     B     B     B  \n",
       "4  ...     A     B     B    A     C    A     B     A     A     A  \n",
       "\n",
       "[5 rows x 78 columns]"
      ]
     },
     "execution_count": 1,
     "metadata": {},
     "output_type": "execute_result"
    }
   ],
   "source": [
    "import pandas as pd\n",
    "\n",
    "fonte = 'MICRODADOS_ENEM_2018.csv'\n",
    "\n",
    "dados = pd.read_csv(fonte, encoding = 'latin1', sep = ';')\n",
    "\n",
    "dados.head()"
   ]
  },
  {
   "cell_type": "code",
   "execution_count": 2,
   "id": "c16e6694",
   "metadata": {},
   "outputs": [
    {
     "name": "stdout",
     "output_type": "stream",
     "text": [
      "A base de dados possui 5513733 linhas e 78 colunas\n"
     ]
    }
   ],
   "source": [
    "linhas_colunas = list(dados.shape)\n",
    "qtde_linhas = linhas_colunas[0]\n",
    "qtde_colunas = linhas_colunas[1]\n",
    "\n",
    "print(f'A base de dados possui {qtde_linhas} linhas e {qtde_colunas} colunas')"
   ]
  },
  {
   "cell_type": "code",
   "execution_count": 3,
   "id": "f448d9e4",
   "metadata": {},
   "outputs": [
    {
     "name": "stdout",
     "output_type": "stream",
     "text": [
      "Total de candidatos: 5513733\n"
     ]
    }
   ],
   "source": [
    "total_de_candidatos = len(dados['NU_INSCRICAO'])\n",
    "print(f'Total de candidatos: {total_de_candidatos}')"
   ]
  },
  {
   "cell_type": "code",
   "execution_count": 4,
   "id": "3cb998a9",
   "metadata": {},
   "outputs": [
    {
     "data": {
      "text/plain": [
       "array(['NU_INSCRICAO', 'NU_ANO', 'TP_FAIXA_ETARIA', 'TP_SEXO',\n",
       "       'TP_ESTADO_CIVIL', 'TP_COR_RACA', 'TP_NACIONALIDADE',\n",
       "       'TP_ST_CONCLUSAO', 'TP_ANO_CONCLUIU', 'TP_ESCOLA', 'TP_ENSINO',\n",
       "       'IN_TREINEIRO', 'CO_MUNICIPIO_ESC', 'NO_MUNICIPIO_ESC',\n",
       "       'CO_UF_ESC', 'SG_UF_ESC', 'TP_DEPENDENCIA_ADM_ESC',\n",
       "       'TP_LOCALIZACAO_ESC', 'TP_SIT_FUNC_ESC', 'CO_MUNICIPIO_PROVA',\n",
       "       'NO_MUNICIPIO_PROVA', 'CO_UF_PROVA', 'SG_UF_PROVA',\n",
       "       'TP_PRESENCA_CN', 'TP_PRESENCA_CH', 'TP_PRESENCA_LC',\n",
       "       'TP_PRESENCA_MT', 'CO_PROVA_CN', 'CO_PROVA_CH', 'CO_PROVA_LC',\n",
       "       'CO_PROVA_MT', 'NU_NOTA_CN', 'NU_NOTA_CH', 'NU_NOTA_LC',\n",
       "       'NU_NOTA_MT', 'TX_RESPOSTAS_CN', 'TX_RESPOSTAS_CH',\n",
       "       'TX_RESPOSTAS_LC', 'TX_RESPOSTAS_MT', 'TP_LINGUA',\n",
       "       'TX_GABARITO_CN', 'TX_GABARITO_CH', 'TX_GABARITO_LC',\n",
       "       'TX_GABARITO_MT', 'TP_STATUS_REDACAO', 'NU_NOTA_COMP1',\n",
       "       'NU_NOTA_COMP2', 'NU_NOTA_COMP3', 'NU_NOTA_COMP4', 'NU_NOTA_COMP5',\n",
       "       'NU_NOTA_REDACAO', 'Q001', 'Q002', 'Q003', 'Q004', 'Q005', 'Q006',\n",
       "       'Q007', 'Q008', 'Q009', 'Q010', 'Q011', 'Q012', 'Q013', 'Q014',\n",
       "       'Q015', 'Q016', 'Q017', 'Q018', 'Q019', 'Q020', 'Q021', 'Q022',\n",
       "       'Q023', 'Q024', 'Q025', 'Q026', 'Q027'], dtype=object)"
      ]
     },
     "execution_count": 4,
     "metadata": {},
     "output_type": "execute_result"
    }
   ],
   "source": [
    "# sabendo o nome das colunas\n",
    "dados.columns.values"
   ]
  },
  {
   "cell_type": "code",
   "execution_count": 5,
   "id": "60b4e4db",
   "metadata": {},
   "outputs": [
    {
     "data": {
      "text/plain": [
       "array(['PA', 'MG', 'PE', 'RJ', 'SC', 'CE', 'BA', 'DF', 'SP', 'SE', 'GO',\n",
       "       'MA', 'PB', 'ES', 'TO', 'RS', 'RN', 'MT', 'MS', 'PI', 'PR', 'AL',\n",
       "       'RO', 'AM', 'AC', 'AP', 'RR'], dtype=object)"
      ]
     },
     "execution_count": 5,
     "metadata": {},
     "output_type": "execute_result"
    }
   ],
   "source": [
    "# estados distintos\n",
    "dados['SG_UF_PROVA'].unique()"
   ]
  },
  {
   "cell_type": "code",
   "execution_count": 6,
   "id": "8d2e209e",
   "metadata": {},
   "outputs": [
    {
     "data": {
      "text/plain": [
       "27"
      ]
     },
     "execution_count": 6,
     "metadata": {},
     "output_type": "execute_result"
    }
   ],
   "source": [
    "# quantidade de estados\n",
    "len(dados['SG_UF_PROVA'].unique())"
   ]
  },
  {
   "cell_type": "code",
   "execution_count": 7,
   "id": "a0b824a7",
   "metadata": {},
   "outputs": [
    {
     "name": "stdout",
     "output_type": "stream",
     "text": [
      "\n",
      "390454 candidatos menores de 17 anos\n",
      "878292 candidatos com 17 anos\n",
      "928789 candidatos com 18 anos\n",
      "617457 candidatos com 19 anos\n",
      "424792 candidatos com 20 anos\n",
      "325778 candidatos com 21 anos\n",
      "254331 candidatos com 22 anos\n",
      "208829 candidatos com 23 anos\n",
      "171932 candidatos com 24 anos\n",
      "143814 candidatos com 25 anos\n",
      "470384 candidatos entre 26 e 30 anos\n",
      "279899 candidatos entre 31 e 35 anos\n",
      "186454 candidatos entre 36 e 40 anos\n",
      "107100 candidatos entre 41 e 45 anos\n",
      "64532 candidatos entre 46 e 50 anos\n",
      "35940 candidatos entre 51 e 55 anos\n",
      "16252 candidatos entre 56 e 60 anos\n",
      "6011 candidatos entre 61 e 65 anos\n",
      "1993 candidatos entre 66 e 70 anos\n",
      "700 candidatos acima de 70 anos\n",
      "\n",
      "\n",
      "7.08% dos candidatos são menores de 17 anos\n",
      "15.93% dos candidatos tem 17 anos\n",
      "16.85% dos candidatos tem 18 anos\n",
      "11.20% dos candidatos tem 19 anos\n",
      "7.70% dos candidatos tem 20 anos\n",
      "5.91% dos candidatos tem 21 anos\n",
      "4.61% dos candidatos tem 22 anos\n",
      "3.79% dos candidatos tem 23 anos\n",
      "3.12% dos candidatos tem 24 anos\n",
      "2.61% dos candidatos tem 25 anos\n",
      "8.53% dos candidatos tem entre 26 e 30 anos\n",
      "5.08% dos candidatos tem entre 31 e 35 anos\n",
      "3.38% dos candidatos tem entre 36 e 40 anos\n",
      "1.94% dos candidatos tem entre 41 e 45 anos\n",
      "1.17% dos candidatos tem entre 46 e 50 anos\n",
      "0.65% dos candidatos tem entre 51 e 55 anos\n",
      "0.29% dos candidatos tem entre 56 e 60 anos\n",
      "0.11% dos candidatos tem entre 61 e 65 anos\n",
      "0.04% dos candidatos tem entre 66 e 70 anos\n",
      "0.01% dos candidatos estão acima de 70 anos\n",
      "\n"
     ]
    }
   ],
   "source": [
    "# quantidade de candidatos por idade\n",
    "candidato_menor_17_anos = len(dados.query('TP_FAIXA_ETARIA == 1'))\n",
    "candidato_17_anos = len(dados.query('TP_FAIXA_ETARIA == 2'))\n",
    "candidato_18_anos = len(dados.query('TP_FAIXA_ETARIA == 3'))\n",
    "candidato_19_anos = len(dados.query('TP_FAIXA_ETARIA == 4'))\n",
    "candidato_20_anos = len(dados.query('TP_FAIXA_ETARIA == 5'))\n",
    "candidato_21_anos = len(dados.query('TP_FAIXA_ETARIA == 6'))\n",
    "candidato_22_anos = len(dados.query('TP_FAIXA_ETARIA == 7'))\n",
    "candidato_23_anos = len(dados.query('TP_FAIXA_ETARIA == 8'))\n",
    "candidato_24_anos = len(dados.query('TP_FAIXA_ETARIA == 9'))\n",
    "candidato_25_anos = len(dados.query('TP_FAIXA_ETARIA == 10'))\n",
    "candidato_26_30_anos = len(dados.query('TP_FAIXA_ETARIA == 11'))\n",
    "candidato_31_35_anos = len(dados.query('TP_FAIXA_ETARIA == 12'))\n",
    "candidato_36_40_anos = len(dados.query('TP_FAIXA_ETARIA == 13'))\n",
    "candidato_41_45_anos = len(dados.query('TP_FAIXA_ETARIA == 14'))\n",
    "candidato_46_50_anos = len(dados.query('TP_FAIXA_ETARIA == 15'))\n",
    "candidato_51_55_anos = len(dados.query('TP_FAIXA_ETARIA == 16'))\n",
    "candidato_56_60_anos = len(dados.query('TP_FAIXA_ETARIA == 17'))\n",
    "candidato_61_65_anos = len(dados.query('TP_FAIXA_ETARIA == 18'))\n",
    "candidato_66_70_anos = len(dados.query('TP_FAIXA_ETARIA == 19'))\n",
    "candidato_maior_70_anos = len(dados.query('TP_FAIXA_ETARIA == 20'))\n",
    "\n",
    "print(f'''\n",
    "{candidato_menor_17_anos} candidatos menores de 17 anos\n",
    "{candidato_17_anos} candidatos com 17 anos\n",
    "{candidato_18_anos} candidatos com 18 anos\n",
    "{candidato_19_anos} candidatos com 19 anos\n",
    "{candidato_20_anos} candidatos com 20 anos\n",
    "{candidato_21_anos} candidatos com 21 anos\n",
    "{candidato_22_anos} candidatos com 22 anos\n",
    "{candidato_23_anos} candidatos com 23 anos\n",
    "{candidato_24_anos} candidatos com 24 anos\n",
    "{candidato_25_anos} candidatos com 25 anos\n",
    "{candidato_26_30_anos} candidatos entre 26 e 30 anos\n",
    "{candidato_31_35_anos} candidatos entre 31 e 35 anos\n",
    "{candidato_36_40_anos} candidatos entre 36 e 40 anos\n",
    "{candidato_41_45_anos} candidatos entre 41 e 45 anos\n",
    "{candidato_46_50_anos} candidatos entre 46 e 50 anos\n",
    "{candidato_51_55_anos} candidatos entre 51 e 55 anos\n",
    "{candidato_56_60_anos} candidatos entre 56 e 60 anos\n",
    "{candidato_61_65_anos} candidatos entre 61 e 65 anos\n",
    "{candidato_66_70_anos} candidatos entre 66 e 70 anos\n",
    "{candidato_maior_70_anos} candidatos acima de 70 anos\n",
    "''')\n",
    "\n",
    "# representatividade\n",
    "rep_candidato_menor_17_anos = candidato_menor_17_anos / total_de_candidatos * 100\n",
    "rep_candidato_17_anos = candidato_17_anos / total_de_candidatos * 100\n",
    "rep_candidato_18_anos = candidato_18_anos / total_de_candidatos * 100\n",
    "rep_candidato_19_anos = candidato_19_anos / total_de_candidatos * 100\n",
    "rep_candidato_20_anos = candidato_20_anos / total_de_candidatos * 100\n",
    "rep_candidato_21_anos = candidato_21_anos / total_de_candidatos * 100\n",
    "rep_candidato_22_anos = candidato_22_anos / total_de_candidatos * 100\n",
    "rep_candidato_23_anos = candidato_23_anos / total_de_candidatos * 100\n",
    "rep_candidato_24_anos = candidato_24_anos / total_de_candidatos * 100\n",
    "rep_candidato_25_anos = candidato_25_anos / total_de_candidatos * 100\n",
    "rep_candidato_26_30_anos = candidato_26_30_anos / total_de_candidatos * 100\n",
    "rep_candidato_31_35_anos = candidato_31_35_anos / total_de_candidatos * 100\n",
    "rep_candidato_36_40_anos = candidato_36_40_anos / total_de_candidatos * 100\n",
    "rep_candidato_41_45_anos = candidato_41_45_anos / total_de_candidatos * 100\n",
    "rep_candidato_46_50_anos = candidato_46_50_anos / total_de_candidatos * 100\n",
    "rep_candidato_51_55_anos = candidato_51_55_anos / total_de_candidatos * 100\n",
    "rep_candidato_56_60_anos = candidato_56_60_anos / total_de_candidatos * 100\n",
    "rep_candidato_61_65_anos = candidato_61_65_anos / total_de_candidatos * 100\n",
    "rep_candidato_66_70_anos = candidato_66_70_anos / total_de_candidatos * 100\n",
    "rep_candidato_maior_70_anos = candidato_maior_70_anos / total_de_candidatos * 100\n",
    "\n",
    "print(f'''\n",
    "{rep_candidato_menor_17_anos:.2f}% dos candidatos são menores de 17 anos\n",
    "{rep_candidato_17_anos:.2f}% dos candidatos tem 17 anos\n",
    "{rep_candidato_18_anos:.2f}% dos candidatos tem 18 anos\n",
    "{rep_candidato_19_anos:.2f}% dos candidatos tem 19 anos\n",
    "{rep_candidato_20_anos:.2f}% dos candidatos tem 20 anos\n",
    "{rep_candidato_21_anos:.2f}% dos candidatos tem 21 anos\n",
    "{rep_candidato_22_anos:.2f}% dos candidatos tem 22 anos\n",
    "{rep_candidato_23_anos:.2f}% dos candidatos tem 23 anos\n",
    "{rep_candidato_24_anos:.2f}% dos candidatos tem 24 anos\n",
    "{rep_candidato_25_anos:.2f}% dos candidatos tem 25 anos\n",
    "{rep_candidato_26_30_anos:.2f}% dos candidatos tem entre 26 e 30 anos\n",
    "{rep_candidato_31_35_anos:.2f}% dos candidatos tem entre 31 e 35 anos\n",
    "{rep_candidato_36_40_anos:.2f}% dos candidatos tem entre 36 e 40 anos\n",
    "{rep_candidato_41_45_anos:.2f}% dos candidatos tem entre 41 e 45 anos\n",
    "{rep_candidato_46_50_anos:.2f}% dos candidatos tem entre 46 e 50 anos\n",
    "{rep_candidato_51_55_anos:.2f}% dos candidatos tem entre 51 e 55 anos\n",
    "{rep_candidato_56_60_anos:.2f}% dos candidatos tem entre 56 e 60 anos\n",
    "{rep_candidato_61_65_anos:.2f}% dos candidatos tem entre 61 e 65 anos\n",
    "{rep_candidato_66_70_anos:.2f}% dos candidatos tem entre 66 e 70 anos\n",
    "{rep_candidato_maior_70_anos:.2f}% dos candidatos estão acima de 70 anos\n",
    "''')"
   ]
  },
  {
   "cell_type": "code",
   "execution_count": 8,
   "id": "0cfb4119",
   "metadata": {},
   "outputs": [
    {
     "name": "stdout",
     "output_type": "stream",
     "text": [
      "\n",
      "2256035 candidatos são do sexo masculino\n",
      "3257698 candidatos são do sexo feminino\n",
      "\n",
      "\n",
      "40.92% dos candidatos são do sexo masculino\n",
      "59.08% dos candidatos são do sexo feminino\n",
      "\n"
     ]
    }
   ],
   "source": [
    "# quantidade de candidatos por sexo\n",
    "candidato_masculino = len(dados.query(\"TP_SEXO == 'M'\"))\n",
    "candidato_feminino = len(dados.query(\"TP_SEXO == 'F'\"))\n",
    "\n",
    "print(f'''\n",
    "{candidato_masculino} candidatos são do sexo masculino\n",
    "{candidato_feminino} candidatos são do sexo feminino\n",
    "''')\n",
    "\n",
    "# representatividade\n",
    "rep_candidato_masculino = candidato_masculino / total_de_candidatos * 100\n",
    "rep_candidato_feminino = candidato_feminino / total_de_candidatos * 100\n",
    "\n",
    "print(f'''\n",
    "{rep_candidato_masculino:.2f}% dos candidatos são do sexo masculino\n",
    "{rep_candidato_feminino:.2f}% dos candidatos são do sexo feminino\n",
    "''')"
   ]
  },
  {
   "cell_type": "code",
   "execution_count": 9,
   "id": "9537c353",
   "metadata": {},
   "outputs": [
    {
     "name": "stdout",
     "output_type": "stream",
     "text": [
      "\n",
      "1981654 candidatos brancos\n",
      "698694 candidatos negros\n",
      "2561307 candidatos pardos\n",
      "123611 candidatos amarelos\n",
      "34033 candidatos indígenas\n",
      "\n",
      "\n",
      "35.94% dos candidatos são brancos\n",
      "12.67% dos candidatos são negros\n",
      "46.45% dos candidatos são pardos\n",
      "2.24% dos candidatos são amarelos\n",
      "0.62% dos candidatos são indígenas\n",
      "\n"
     ]
    }
   ],
   "source": [
    "# quantidade de candidatos por raça\n",
    "candidato_branco = len(dados.query('TP_COR_RACA == 1'))\n",
    "candidato_negro = len(dados.query('TP_COR_RACA == 2'))\n",
    "candidato_pardo = len(dados.query('TP_COR_RACA == 3'))\n",
    "candidato_amarelo = len(dados.query('TP_COR_RACA == 4'))\n",
    "candidato_indigena = len(dados.query('TP_COR_RACA == 5'))\n",
    "\n",
    "print(f'''\n",
    "{candidato_branco} candidatos brancos\n",
    "{candidato_negro} candidatos negros\n",
    "{candidato_pardo} candidatos pardos\n",
    "{candidato_amarelo} candidatos amarelos\n",
    "{candidato_indigena} candidatos indígenas\n",
    "''')\n",
    "\n",
    "# representatividade\n",
    "rep_candidato_branco = candidato_branco / total_de_candidatos * 100\n",
    "rep_candidato_negro = candidato_negro / total_de_candidatos * 100\n",
    "rep_candidato_pardo = candidato_pardo / total_de_candidatos * 100\n",
    "rep_candidato_amarelo = candidato_amarelo / total_de_candidatos * 100\n",
    "rep_candidato_indigena = candidato_indigena / total_de_candidatos * 100\n",
    "\n",
    "print(f'''\n",
    "{rep_candidato_branco:.2f}% dos candidatos são brancos\n",
    "{rep_candidato_negro:.2f}% dos candidatos são negros\n",
    "{rep_candidato_pardo:.2f}% dos candidatos são pardos\n",
    "{rep_candidato_amarelo:.2f}% dos candidatos são amarelos\n",
    "{rep_candidato_indigena:.2f}% dos candidatos são indígenas\n",
    "''')"
   ]
  },
  {
   "cell_type": "code",
   "execution_count": 10,
   "id": "6d310802",
   "metadata": {},
   "outputs": [
    {
     "name": "stdout",
     "output_type": "stream",
     "text": [
      "\n",
      "5327950 candidatos brasileiros\n",
      "164645 candidatos brasileiros naturalizados\n",
      "6876 candidatos estrangeiros\n",
      "12475 candidatos brasileiros nascidos no exterior\n",
      "\n",
      "\n",
      "96.63% dos candidatos são brasileiros\n",
      "2.99% dos candidatos são brasileiros naturalizados\n",
      "0.12% dos candidatos são estrangeiros\n",
      "0.23% dos candidatos são brasileiros nascidos no exterior\n",
      "\n"
     ]
    }
   ],
   "source": [
    "# quantidade de candidatos por nacionalidade\n",
    "brasileiro = len(dados.query('TP_NACIONALIDADE == 1'))\n",
    "brasileiro_naturalizado = len(dados.query('TP_NACIONALIDADE == 2'))\n",
    "estrangeiro = len(dados.query('TP_NACIONALIDADE == 3'))\n",
    "brasileiro_nascido_exterior = len(dados.query('TP_NACIONALIDADE == 4'))\n",
    "\n",
    "print(f'''\n",
    "{brasileiro} candidatos brasileiros\n",
    "{brasileiro_naturalizado} candidatos brasileiros naturalizados\n",
    "{estrangeiro} candidatos estrangeiros\n",
    "{brasileiro_nascido_exterior} candidatos brasileiros nascidos no exterior\n",
    "''')\n",
    "\n",
    "# representatividade\n",
    "rep_brasileiro = brasileiro / total_de_candidatos * 100\n",
    "rep_brasileiro_naturalizado = brasileiro_naturalizado / total_de_candidatos * 100\n",
    "rep_estrangeiro = estrangeiro / total_de_candidatos * 100\n",
    "rep_brasileiro_nascido_exterior = brasileiro_nascido_exterior / total_de_candidatos * 100\n",
    "\n",
    "print(f'''\n",
    "{rep_brasileiro:.2f}% dos candidatos são brasileiros\n",
    "{rep_brasileiro_naturalizado:.2f}% dos candidatos são brasileiros naturalizados\n",
    "{rep_estrangeiro:.2f}% dos candidatos são estrangeiros\n",
    "{rep_brasileiro_nascido_exterior:.2f}% dos candidatos são brasileiros nascidos no exterior\n",
    "''')"
   ]
  },
  {
   "cell_type": "code",
   "execution_count": 11,
   "id": "2ae60c8c",
   "metadata": {},
   "outputs": [
    {
     "name": "stdout",
     "output_type": "stream",
     "text": [
      "\n",
      "4110755 candidatos não informaram\n",
      "1137488 dos candidatos estudam em escola pública\n",
      "13877 dos candidatos estudam em escola particular\n",
      "\n",
      "\n",
      "74.55% dos candidatos não responderam\n",
      "20.63% dos candidatos estudam em escola pública\n",
      "0.25% dos candidatos estudam em escola particular\n",
      "\n"
     ]
    }
   ],
   "source": [
    "# candidatos que estudam em escola pública ou particular\n",
    "candidato_escola_sem_resposta = len(dados.query('TP_ESCOLA == 1'))\n",
    "candidato_escola_publica = len(dados.query('TP_ESCOLA == 2'))\n",
    "candidato_escola_particular = len(dados.query('TP_ESCOLA == 3'))\n",
    "\n",
    "print(f'''\n",
    "{candidato_escola_sem_resposta} candidatos não informaram\n",
    "{candidato_escola_publica} dos candidatos estudam em escola pública\n",
    "{candidato_escola_particular} dos candidatos estudam em escola particular\n",
    "''')\n",
    "\n",
    "# representatividade\n",
    "rep_candidato_escola_sem_resposta = candidato_escola_sem_resposta / total_de_candidatos * 100\n",
    "rep_candidato_escola_publica = candidato_escola_publica / total_de_candidatos * 100\n",
    "rep_candidato_escola_particular = candidato_escola_particular / total_de_candidatos * 100\n",
    "\n",
    "print(f'''\n",
    "{rep_candidato_escola_sem_resposta:.2f}% dos candidatos não responderam\n",
    "{rep_candidato_escola_publica:.2f}% dos candidatos estudam em escola pública\n",
    "{rep_candidato_escola_particular:.2f}% dos candidatos estudam em escola particular\n",
    "''')"
   ]
  },
  {
   "cell_type": "code",
   "execution_count": 12,
   "id": "aa587ae0",
   "metadata": {},
   "outputs": [
    {
     "name": "stdout",
     "output_type": "stream",
     "text": [
      "\n",
      "Dos candidatos brancos, 366232 estudam em escola pública e 152221 estudam em escola particular\n",
      "Dos candidatos negros, 140625 estudam em escola pública e 14770 estudam em escola particular\n",
      "Dos candidatos pardos, 571909 estudam em escola pública e 71756 estudam em escola particular\n",
      "Dos candidatos amarelos, 24784 estudam em escola pública e 6309 estudam em escola particular\n",
      "Dos candidatos indígenas, 9229 estudam em escola pública e 573 estudam em escola particular\n",
      "\n",
      "\n",
      "Dos candidatos brancos, 6.64% estudam em escola pública e 2.76% estudam em escola particular\n",
      "Dos candidatos negros, 2.55% estudam em escola pública e 0.27% estudam em escola particular\n",
      "Dos candidatos pardos, 10.37% estudam em escola pública e 1.30% estudam em escola particular\n",
      "Dos candidatos amarelos, 0.45% estudam em escola pública e 0.11% estudam em escola particular\n",
      "Dos candidatos indígenas, 0.17% estudam em escola pública e 0.01% estudam em escola particular\n",
      "\n"
     ]
    }
   ],
   "source": [
    "# candidatos que estudam em escola pública ou particular por raça\n",
    "branco_tp_escola = list(dados.query('TP_COR_RACA == 1')['TP_ESCOLA'].value_counts())\n",
    "candidato_escola_publica_branco = branco_tp_escola[1]\n",
    "candidato_escola_particular_branco = branco_tp_escola[2]\n",
    "\n",
    "negro_tp_escola = list(dados.query('TP_COR_RACA == 2')['TP_ESCOLA'].value_counts())\n",
    "candidato_escola_publica_negro = negro_tp_escola[1]\n",
    "candidato_escola_particular_negro = negro_tp_escola[2]\n",
    "\n",
    "pardo_tp_escola = list(dados.query('TP_COR_RACA == 3')['TP_ESCOLA'].value_counts())\n",
    "candidato_escola_publica_pardo = pardo_tp_escola[1]\n",
    "candidato_escola_particular_pardo = pardo_tp_escola[2]\n",
    "\n",
    "amarelo_tp_escola = list(dados.query('TP_COR_RACA == 4')['TP_ESCOLA'].value_counts())\n",
    "candidato_escola_publica_amarelo = amarelo_tp_escola[1]\n",
    "candidato_escola_particular_amarelo = amarelo_tp_escola[2]\n",
    "\n",
    "indigena_tp_escola = list(dados.query('TP_COR_RACA == 5')['TP_ESCOLA'].value_counts())\n",
    "candidato_escola_publica_indigena = indigena_tp_escola[1]\n",
    "candidato_escola_particular_indigena = indigena_tp_escola[2]\n",
    "\n",
    "print(f'''\n",
    "Dos candidatos brancos, {candidato_escola_publica_branco} estudam em escola pública e {candidato_escola_particular_branco} estudam em escola particular\n",
    "Dos candidatos negros, {candidato_escola_publica_negro} estudam em escola pública e {candidato_escola_particular_negro} estudam em escola particular\n",
    "Dos candidatos pardos, {candidato_escola_publica_pardo} estudam em escola pública e {candidato_escola_particular_pardo} estudam em escola particular\n",
    "Dos candidatos amarelos, {candidato_escola_publica_amarelo} estudam em escola pública e {candidato_escola_particular_amarelo} estudam em escola particular\n",
    "Dos candidatos indígenas, {candidato_escola_publica_indigena} estudam em escola pública e {candidato_escola_particular_indigena} estudam em escola particular\n",
    "''')\n",
    "\n",
    "# representatividade\n",
    "rep_candidato_escola_publica_branco = candidato_escola_publica_branco / total_de_candidatos * 100\n",
    "rep_candidato_escola_particular_branco = candidato_escola_particular_branco / total_de_candidatos * 100\n",
    "\n",
    "rep_candidato_escola_publica_negro = candidato_escola_publica_negro / total_de_candidatos * 100\n",
    "rep_candidato_escola_particular_negro = candidato_escola_particular_negro / total_de_candidatos * 100\n",
    "\n",
    "rep_candidato_escola_publica_pardo = candidato_escola_publica_pardo / total_de_candidatos * 100\n",
    "rep_candidato_escola_particular_pardo = candidato_escola_particular_pardo / total_de_candidatos * 100\n",
    "\n",
    "rep_candidato_escola_publica_amarelo = candidato_escola_publica_amarelo / total_de_candidatos * 100\n",
    "rep_candidato_escola_particular_amarelo = candidato_escola_particular_amarelo / total_de_candidatos * 100\n",
    "\n",
    "rep_candidato_escola_publica_indigena = candidato_escola_publica_indigena / total_de_candidatos * 100\n",
    "rep_candidato_escola_particular_indigena = candidato_escola_particular_indigena / total_de_candidatos * 100\n",
    "\n",
    "print(f'''\n",
    "Dos candidatos brancos, {rep_candidato_escola_publica_branco:.2f}% estudam em escola pública e {rep_candidato_escola_particular_branco:.2f}% estudam em escola particular\n",
    "Dos candidatos negros, {rep_candidato_escola_publica_negro:.2f}% estudam em escola pública e {rep_candidato_escola_particular_negro:.2f}% estudam em escola particular\n",
    "Dos candidatos pardos, {rep_candidato_escola_publica_pardo:.2f}% estudam em escola pública e {rep_candidato_escola_particular_pardo:.2f}% estudam em escola particular\n",
    "Dos candidatos amarelos, {rep_candidato_escola_publica_amarelo:.2f}% estudam em escola pública e {rep_candidato_escola_particular_amarelo:.2f}% estudam em escola particular\n",
    "Dos candidatos indígenas, {rep_candidato_escola_publica_indigena:.2f}% estudam em escola pública e {rep_candidato_escola_particular_indigena:.2f}% estudam em escola particular\n",
    "''')"
   ]
  },
  {
   "cell_type": "code",
   "execution_count": 13,
   "id": "044335c7",
   "metadata": {},
   "outputs": [
    {
     "name": "stdout",
     "output_type": "stream",
     "text": [
      "\n",
      "38330 candidatos, que representam 0.70% são do estado do Acre\n",
      "87976 candidatos, que representam 1.60% são do estado de Alagoas\n",
      "40622 candidatos, que representam 0.74% são do estado do Amapá\n",
      "123801 candidatos, que representam 2.25% são do estado do Amazonas\n",
      "398492 candidatos, que representam 7.23% são do estado da Bahia\n",
      "328589 candidatos, que representam 5.96% são do estado do Ceará\n",
      "106304 candidatos, que representam 1.93% são do Distrito Federal\n",
      "111972 candidatos, que representam 2.03% são do estado do Espírito Santo\n",
      "190593 candidatos, que representam 3.46% são do estado de Goiás\n",
      "216757 candidatos, que representam 3.93% são do estado do Maranhão\n",
      "96793 candidatos, que representam 1.76% são do estado do Mato Grosso\n",
      "72393 candidatos, que representam 1.31% são do estado do Mato Grosso do Sul\n",
      "583031 candidatos, que representam 10.57% são do estado de Minas Gerais\n",
      "281807 candidatos, que representam 5.11% são do estado do Pará\n",
      "151490 candidatos, que representam 2.75% são do estado da Paraíba\n",
      "237343 candidatos, que representam 4.30% são do estado do Paraná\n",
      "307318 candidatos, que representam 5.57% são do estado de Pernambuco\n",
      "119377 candidatos, que representam 2.17% são do estado do Piauí\n",
      "383247 candidatos, que representam 6.95% são do estado do Rio de Janeiro\n",
      "124045 candidatos, que representam 2.25% são do estado do Rio Grande do Norte\n",
      "243304 candidatos, que representam 4.41% são do estado do Rio Grande do Sul\n",
      "61934 candidatos, que representam 1.12% são do estado de Rondônia\n",
      "14067 candidatos, que representam 0.26% são do estado de Roraima\n",
      "125361 candidatos, que representam 2.27% são do estado de Santa Catarina\n",
      "937348 candidatos, que representam 17.00% são do estado de São Paulo\n",
      "77049 candidatos, que representam 1.40% são do estado de Sergipe\n",
      "54390 candidatos, que representam 0.99% são do estado de Tocantins\n",
      "\n"
     ]
    }
   ],
   "source": [
    "# candidatos por estado\n",
    "candidato_ac = len(dados.query(\"SG_UF_PROVA == 'AC'\"))\n",
    "candidato_al = len(dados.query(\"SG_UF_PROVA == 'AL'\"))\n",
    "candidato_ap = len(dados.query(\"SG_UF_PROVA == 'AP'\"))\n",
    "candidato_am = len(dados.query(\"SG_UF_PROVA == 'AM'\"))\n",
    "candidato_ba = len(dados.query(\"SG_UF_PROVA == 'BA'\"))\n",
    "candidato_ce = len(dados.query(\"SG_UF_PROVA == 'CE'\"))\n",
    "candidato_df = len(dados.query(\"SG_UF_PROVA == 'DF'\"))\n",
    "candidato_es = len(dados.query(\"SG_UF_PROVA == 'ES'\"))\n",
    "candidato_go = len(dados.query(\"SG_UF_PROVA == 'GO'\"))\n",
    "candidato_ma = len(dados.query(\"SG_UF_PROVA == 'MA'\"))\n",
    "candidato_mt = len(dados.query(\"SG_UF_PROVA == 'MT'\"))\n",
    "candidato_ms = len(dados.query(\"SG_UF_PROVA == 'MS'\"))\n",
    "candidato_mg = len(dados.query(\"SG_UF_PROVA == 'MG'\"))\n",
    "candidato_pa = len(dados.query(\"SG_UF_PROVA == 'PA'\"))\n",
    "candidato_pb = len(dados.query(\"SG_UF_PROVA == 'PB'\"))\n",
    "candidato_pr = len(dados.query(\"SG_UF_PROVA == 'PR'\"))\n",
    "candidato_pe = len(dados.query(\"SG_UF_PROVA == 'PE'\"))\n",
    "candidato_pi = len(dados.query(\"SG_UF_PROVA == 'PI'\"))\n",
    "candidato_rj = len(dados.query(\"SG_UF_PROVA == 'RJ'\"))\n",
    "candidato_rn = len(dados.query(\"SG_UF_PROVA == 'RN'\"))\n",
    "candidato_rs = len(dados.query(\"SG_UF_PROVA == 'RS'\"))\n",
    "candidato_ro = len(dados.query(\"SG_UF_PROVA == 'RO'\"))\n",
    "candidato_rr = len(dados.query(\"SG_UF_PROVA == 'RR'\"))\n",
    "candidato_sc = len(dados.query(\"SG_UF_PROVA == 'SC'\"))\n",
    "candidato_sp = len(dados.query(\"SG_UF_PROVA == 'SP'\"))\n",
    "candidato_se = len(dados.query(\"SG_UF_PROVA == 'SE'\"))\n",
    "candidato_to = len(dados.query(\"SG_UF_PROVA == 'TO'\"))\n",
    "\n",
    "# representatividade\n",
    "\n",
    "rep_candidato_ac = candidato_ac / total_de_candidatos * 100\n",
    "rep_candidato_al = candidato_al / total_de_candidatos * 100\n",
    "rep_candidato_ap = candidato_ap / total_de_candidatos * 100\n",
    "rep_candidato_am = candidato_am / total_de_candidatos * 100\n",
    "rep_candidato_ba = candidato_ba / total_de_candidatos * 100\n",
    "rep_candidato_ce = candidato_ce / total_de_candidatos * 100\n",
    "rep_candidato_df = candidato_df / total_de_candidatos * 100\n",
    "rep_candidato_es = candidato_es / total_de_candidatos * 100\n",
    "rep_candidato_go = candidato_go / total_de_candidatos * 100\n",
    "rep_candidato_ma = candidato_ma / total_de_candidatos * 100\n",
    "rep_candidato_mt = candidato_mt / total_de_candidatos * 100\n",
    "rep_candidato_ms = candidato_ms / total_de_candidatos * 100\n",
    "rep_candidato_mg = candidato_mg / total_de_candidatos * 100\n",
    "rep_candidato_pa = candidato_pa / total_de_candidatos * 100\n",
    "rep_candidato_pb = candidato_pb / total_de_candidatos * 100\n",
    "rep_candidato_pr = candidato_pr / total_de_candidatos * 100\n",
    "rep_candidato_pe = candidato_pe / total_de_candidatos * 100\n",
    "rep_candidato_pi = candidato_pi / total_de_candidatos * 100\n",
    "rep_candidato_rj = candidato_rj / total_de_candidatos * 100\n",
    "rep_candidato_rn = candidato_rn / total_de_candidatos * 100\n",
    "rep_candidato_rs = candidato_rs / total_de_candidatos * 100\n",
    "rep_candidato_ro = candidato_ro / total_de_candidatos * 100\n",
    "rep_candidato_rr = candidato_rr / total_de_candidatos * 100\n",
    "rep_candidato_sc = candidato_sc / total_de_candidatos * 100\n",
    "rep_candidato_sp = candidato_sp / total_de_candidatos * 100\n",
    "rep_candidato_se = candidato_se / total_de_candidatos * 100\n",
    "rep_candidato_to = candidato_to / total_de_candidatos * 100\n",
    "\n",
    "print(f'''\n",
    "{candidato_ac} candidatos, que representam {rep_candidato_ac:.2f}% são do estado do Acre\n",
    "{candidato_al} candidatos, que representam {rep_candidato_al:.2f}% são do estado de Alagoas\n",
    "{candidato_ap} candidatos, que representam {rep_candidato_ap:.2f}% são do estado do Amapá\n",
    "{candidato_am} candidatos, que representam {rep_candidato_am:.2f}% são do estado do Amazonas\n",
    "{candidato_ba} candidatos, que representam {rep_candidato_ba:.2f}% são do estado da Bahia\n",
    "{candidato_ce} candidatos, que representam {rep_candidato_ce:.2f}% são do estado do Ceará\n",
    "{candidato_df} candidatos, que representam {rep_candidato_df:.2f}% são do Distrito Federal\n",
    "{candidato_es} candidatos, que representam {rep_candidato_es:.2f}% são do estado do Espírito Santo\n",
    "{candidato_go} candidatos, que representam {rep_candidato_go:.2f}% são do estado de Goiás\n",
    "{candidato_ma} candidatos, que representam {rep_candidato_ma:.2f}% são do estado do Maranhão\n",
    "{candidato_mt} candidatos, que representam {rep_candidato_mt:.2f}% são do estado do Mato Grosso\n",
    "{candidato_ms} candidatos, que representam {rep_candidato_ms:.2f}% são do estado do Mato Grosso do Sul\n",
    "{candidato_mg} candidatos, que representam {rep_candidato_mg:.2f}% são do estado de Minas Gerais\n",
    "{candidato_pa} candidatos, que representam {rep_candidato_pa:.2f}% são do estado do Pará\n",
    "{candidato_pb} candidatos, que representam {rep_candidato_pb:.2f}% são do estado da Paraíba\n",
    "{candidato_pr} candidatos, que representam {rep_candidato_pr:.2f}% são do estado do Paraná\n",
    "{candidato_pe} candidatos, que representam {rep_candidato_pe:.2f}% são do estado de Pernambuco\n",
    "{candidato_pi} candidatos, que representam {rep_candidato_pi:.2f}% são do estado do Piauí\n",
    "{candidato_rj} candidatos, que representam {rep_candidato_rj:.2f}% são do estado do Rio de Janeiro\n",
    "{candidato_rn} candidatos, que representam {rep_candidato_rn:.2f}% são do estado do Rio Grande do Norte\n",
    "{candidato_rs} candidatos, que representam {rep_candidato_rs:.2f}% são do estado do Rio Grande do Sul\n",
    "{candidato_ro} candidatos, que representam {rep_candidato_ro:.2f}% são do estado de Rondônia\n",
    "{candidato_rr} candidatos, que representam {rep_candidato_rr:.2f}% são do estado de Roraima\n",
    "{candidato_sc} candidatos, que representam {rep_candidato_sc:.2f}% são do estado de Santa Catarina\n",
    "{candidato_sp} candidatos, que representam {rep_candidato_sp:.2f}% são do estado de São Paulo\n",
    "{candidato_se} candidatos, que representam {rep_candidato_se:.2f}% são do estado de Sergipe\n",
    "{candidato_to} candidatos, que representam {rep_candidato_to:.2f}% são do estado de Tocantins\n",
    "''')"
   ]
  },
  {
   "cell_type": "code",
   "execution_count": 14,
   "id": "b41357c8",
   "metadata": {},
   "outputs": [
    {
     "name": "stdout",
     "output_type": "stream",
     "text": [
      "\n",
      "3905085 candidatos estiveram presente na prova de Ciências da Natureza\n",
      "4148250 candidatos estiveram presente na prova de Ciências Humanas\n",
      "4148250 candidatos estiveram presente na prova de Linguagem e Códigos\n",
      "3905085 candidatos estiveram presente na prova de Matemática\n",
      "\n",
      "\n",
      "70.82% dos candidatos estiveram presente na prova de Ciências da Natureza\n",
      "75.23% dos candidatos estiveram presente na prova de Ciências Humanas\n",
      "75.23% dos candidatos estiveram presente na prova de Linguagem e Códigos\n",
      "70.82% dos candidatos estiveram presente na prova de Matemática\n",
      "\n"
     ]
    }
   ],
   "source": [
    "# presenças nas provas\n",
    "presenca_cn = len(dados.query('TP_PRESENCA_CN == 1'))\n",
    "presenca_ch = len(dados.query('TP_PRESENCA_CH == 1'))\n",
    "presenca_lc = len(dados.query('TP_PRESENCA_LC == 1'))\n",
    "presenca_mt = len(dados.query('TP_PRESENCA_MT == 1'))\n",
    "\n",
    "print(f'''\n",
    "{presenca_cn} candidatos estiveram presente na prova de Ciências da Natureza\n",
    "{presenca_ch} candidatos estiveram presente na prova de Ciências Humanas\n",
    "{presenca_lc} candidatos estiveram presente na prova de Linguagem e Códigos\n",
    "{presenca_mt} candidatos estiveram presente na prova de Matemática\n",
    "''')\n",
    "\n",
    "# representatividade\n",
    "\n",
    "rep_presenca_cn = presenca_cn / total_de_candidatos * 100\n",
    "rep_presenca_ch = presenca_ch / total_de_candidatos * 100\n",
    "rep_presenca_lc = presenca_lc / total_de_candidatos * 100\n",
    "rep_presenca_mt = presenca_mt / total_de_candidatos * 100\n",
    "\n",
    "print(f'''\n",
    "{rep_presenca_cn:.2f}% dos candidatos estiveram presente na prova de Ciências da Natureza\n",
    "{rep_presenca_ch:.2f}% dos candidatos estiveram presente na prova de Ciências Humanas\n",
    "{rep_presenca_lc:.2f}% dos candidatos estiveram presente na prova de Linguagem e Códigos\n",
    "{rep_presenca_mt:.2f}% dos candidatos estiveram presente na prova de Matemática\n",
    "''')"
   ]
  },
  {
   "cell_type": "code",
   "execution_count": 15,
   "id": "a358f6a5",
   "metadata": {},
   "outputs": [
    {
     "name": "stdout",
     "output_type": "stream",
     "text": [
      "\n",
      "1607796 candidatos faltaram na prova de Ciências da Natureza\n",
      "1363441 candidatos faltaram na prova de Ciências Humanas\n",
      "1363441 candidatos faltaram na prova de Linguagem e Códigos\n",
      "1607796 candidatos faltaram na prova de Matemática\n",
      "\n",
      "\n",
      "29.16% dos candidatos faltaram na prova de Ciências da Natureza\n",
      "24.73% dos candidatos faltaram na prova de Ciências Humanas\n",
      "24.73% dos candidatos faltaram na prova de Linguagem e Códigos\n",
      "29.16% dos candidatos faltaram na prova de Matemática\n",
      "\n"
     ]
    }
   ],
   "source": [
    "# faltas nas provas\n",
    "falta_cn = len(dados.query('TP_PRESENCA_CN == 0'))\n",
    "falta_ch = len(dados.query('TP_PRESENCA_CH == 0'))\n",
    "falta_lc = len(dados.query('TP_PRESENCA_LC == 0'))\n",
    "falta_mt = len(dados.query('TP_PRESENCA_MT == 0'))\n",
    "\n",
    "print(f'''\n",
    "{falta_cn} candidatos faltaram na prova de Ciências da Natureza\n",
    "{falta_ch} candidatos faltaram na prova de Ciências Humanas\n",
    "{falta_lc} candidatos faltaram na prova de Linguagem e Códigos\n",
    "{falta_mt} candidatos faltaram na prova de Matemática\n",
    "''')\n",
    "\n",
    "# representatividade\n",
    "\n",
    "rep_falta_cn = falta_cn / total_de_candidatos * 100\n",
    "rep_falta_ch = falta_ch / total_de_candidatos * 100\n",
    "rep_falta_lc = falta_lc / total_de_candidatos * 100\n",
    "rep_falta_mt = falta_mt / total_de_candidatos * 100\n",
    "\n",
    "print(f'''\n",
    "{rep_falta_cn:.2f}% dos candidatos faltaram na prova de Ciências da Natureza\n",
    "{rep_falta_ch:.2f}% dos candidatos faltaram na prova de Ciências Humanas\n",
    "{rep_falta_lc:.2f}% dos candidatos faltaram na prova de Linguagem e Códigos\n",
    "{rep_falta_mt:.2f}% dos candidatos faltaram na prova de Matemática\n",
    "''')"
   ]
  },
  {
   "cell_type": "markdown",
   "id": "41b3deac",
   "metadata": {},
   "source": [
    "## Outras Análises"
   ]
  },
  {
   "cell_type": "code",
   "execution_count": 16,
   "id": "67b10932",
   "metadata": {},
   "outputs": [
    {
     "name": "stdout",
     "output_type": "stream",
     "text": [
      "\n",
      "2335635 candidatos não possuem um computador em casa\n",
      "\n"
     ]
    }
   ],
   "source": [
    "# candidatos sem computador em casa\n",
    "candidatos_sem_computador = len(dados.query(\"Q024 == 'A'\"))\n",
    "\n",
    "print(f'''\n",
    "{candidatos_sem_computador} candidatos não possuem um computador em casa\n",
    "''')"
   ]
  },
  {
   "cell_type": "code",
   "execution_count": 17,
   "id": "d6b9fa42",
   "metadata": {},
   "outputs": [
    {
     "name": "stdout",
     "output_type": "stream",
     "text": [
      "\n",
      "1427467 candidatos não tem acesso a internet em sua casa\n",
      "\n"
     ]
    }
   ],
   "source": [
    "# candidatos sem acesso a internet\n",
    "candidatos_sem_acesso = len(dados.query(\"Q025 == 'A'\"))\n",
    "\n",
    "print(f'''\n",
    "{candidatos_sem_acesso} candidatos não tem acesso a internet em sua casa\n",
    "''')"
   ]
  },
  {
   "cell_type": "code",
   "execution_count": 18,
   "id": "20b78a10",
   "metadata": {},
   "outputs": [
    {
     "name": "stdout",
     "output_type": "stream",
     "text": [
      "\n",
      "55603 candidatos não possuem banheiro em casa\n",
      "\n"
     ]
    }
   ],
   "source": [
    "# candidatos que não tem um banheiro em casa\n",
    "candidato_sem_banheiro = len(dados.query(\"Q008 == 'A'\"))\n",
    "\n",
    "print(f'''\n",
    "{candidato_sem_banheiro} candidatos não possuem banheiro em casa\n",
    "''')"
   ]
  },
  {
   "cell_type": "code",
   "execution_count": 19,
   "id": "90e56679",
   "metadata": {},
   "outputs": [
    {
     "name": "stdout",
     "output_type": "stream",
     "text": [
      "\n",
      "95608 candidatos não possuem geladeira em casa\n",
      "\n"
     ]
    }
   ],
   "source": [
    "# candidatos que não possuem geladeira em casa\n",
    "candidato_sem_geladeira = len(dados.query(\"Q012 == 'A'\"))\n",
    "\n",
    "print(f'''\n",
    "{candidato_sem_geladeira} candidatos não possuem geladeira em casa\n",
    "''')"
   ]
  },
  {
   "cell_type": "code",
   "execution_count": 20,
   "id": "954c09ed",
   "metadata": {},
   "outputs": [
    {
     "name": "stdout",
     "output_type": "stream",
     "text": [
      "\n",
      "48445 candidatos não possuem quarto para dormir\n",
      "\n"
     ]
    }
   ],
   "source": [
    "# candidatos sem quarto pra dormir em casa\n",
    "candidato_sem_quarto = len(dados.query(\"Q009 == 'A'\"))\n",
    "\n",
    "print(f'''\n",
    "{candidato_sem_quarto} candidatos não possuem quarto para dormir\n",
    "''')"
   ]
  },
  {
   "cell_type": "code",
   "execution_count": 21,
   "id": "f1e6f3b4",
   "metadata": {},
   "outputs": [
    {
     "name": "stdout",
     "output_type": "stream",
     "text": [
      "\n",
      "325041 dos candidatos tem um pai que nunca estudou\n",
      "228127 dos candidatos tem uma mãe que nunca estudou\n",
      "\n"
     ]
    }
   ],
   "source": [
    "# candidatos em que o pai e a mãe nunca estudaram\n",
    "pai_nunca_estudou = len(dados.query(\"Q001 == 'A'\"))\n",
    "mae_nunca_estudou = len(dados.query(\"Q002 == 'A'\"))\n",
    "\n",
    "print(f'''\n",
    "{pai_nunca_estudou} dos candidatos tem um pai que nunca estudou\n",
    "{mae_nunca_estudou} dos candidatos tem uma mãe que nunca estudou\n",
    "''')"
   ]
  }
 ],
 "metadata": {
  "kernelspec": {
   "display_name": "Python 3 (ipykernel)",
   "language": "python",
   "name": "python3"
  },
  "language_info": {
   "codemirror_mode": {
    "name": "ipython",
    "version": 3
   },
   "file_extension": ".py",
   "mimetype": "text/x-python",
   "name": "python",
   "nbconvert_exporter": "python",
   "pygments_lexer": "ipython3",
   "version": "3.10.8"
  }
 },
 "nbformat": 4,
 "nbformat_minor": 5
}
